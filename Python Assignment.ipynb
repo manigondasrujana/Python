{
 "cells": [
  {
   "cell_type": "code",
   "execution_count": 1,
   "metadata": {},
   "outputs": [],
   "source": [
    "import pandas as pd\n",
    "import numpy as np\n"
   ]
  },
  {
   "cell_type": "code",
   "execution_count": 11,
   "metadata": {},
   "outputs": [],
   "source": [
    "#QUESTION 1\n",
    "def return_indices(mylist=(),target=int):\n",
    "    sum=0;\n",
    "    i=0;\n",
    "    j=1;\n",
    "    while sum!=target and j<len(mylist):\n",
    "        sum=mylist[i]+mylist[j]\n",
    "        if sum==target:\n",
    "            return i,j\n",
    "        else:\n",
    "            i=i+1;\n",
    "            j=j+1;\n",
    "            \n"
   ]
  },
  {
   "cell_type": "code",
   "execution_count": 13,
   "metadata": {},
   "outputs": [
    {
     "data": {
      "text/plain": [
       "(2, 3)"
      ]
     },
     "execution_count": 13,
     "metadata": {},
     "output_type": "execute_result"
    }
   ],
   "source": [
    "a=(1,2,3,4)\n",
    "return_indices(a,7)"
   ]
  },
  {
   "cell_type": "code",
   "execution_count": 15,
   "metadata": {},
   "outputs": [],
   "source": [
    "#QUESTION 2\n",
    "def reverse(MyNumber):\n",
    "    Reverse = 0 \n",
    "    Number=MyNumber\n",
    "    if(MyNumber<0):\n",
    "        Number=Number*(-1)\n",
    "    while(Number > 0):    \n",
    "        Reminder = Number %10    \n",
    "        Reverse = (Reverse *10) + Reminder    \n",
    "        Number = Number //10\n",
    "    if(MyNumber<0):\n",
    "         return Reverse*(-1)\n",
    "    return Reverse\n",
    "             \n",
    "    \n"
   ]
  },
  {
   "cell_type": "code",
   "execution_count": 16,
   "metadata": {},
   "outputs": [
    {
     "data": {
      "text/plain": [
       "123"
      ]
     },
     "execution_count": 16,
     "metadata": {},
     "output_type": "execute_result"
    }
   ],
   "source": [
    "reverse(321)"
   ]
  },
  {
   "cell_type": "code",
   "execution_count": 17,
   "metadata": {},
   "outputs": [
    {
     "data": {
      "text/plain": [
       "-654"
      ]
     },
     "execution_count": 17,
     "metadata": {},
     "output_type": "execute_result"
    }
   ],
   "source": [
    "reverse(-456)"
   ]
  },
  {
   "cell_type": "code",
   "execution_count": 47,
   "metadata": {},
   "outputs": [],
   "source": [
    "#QUESTION 3\n",
    "def roman_number(Roman_Value):\n",
    "    roman_numerals = {'I':1, 'V':5, 'X':10, 'L':50, 'C':100, 'D':500, 'M':1000}\n",
    "    result = 0\n",
    "    for i,c in enumerate(Roman_Value):\n",
    "        if (i+1) == len(Roman_Value) or roman_numerals[c] > roman_numerals[Roman_Value[i+1]]:\n",
    "            result += roman_numerals[c]\n",
    "        else:\n",
    "            result -= roman_numerals[c]\n",
    "    return result"
   ]
  },
  {
   "cell_type": "code",
   "execution_count": 48,
   "metadata": {},
   "outputs": [
    {
     "data": {
      "text/plain": [
       "1061"
      ]
     },
     "execution_count": 48,
     "metadata": {},
     "output_type": "execute_result"
    }
   ],
   "source": [
    "roman_number('MLXI')"
   ]
  },
  {
   "cell_type": "code",
   "execution_count": 49,
   "metadata": {},
   "outputs": [],
   "source": [
    "#QUESTION 4\n",
    "def CommonPrefix(array=()):\n",
    "    prefix = \"\"\n",
    "    if not array: return prefix\n",
    "    shortest_str = min(array, key=len)\n",
    "    for i in range(len(shortest_str)):\n",
    "        if all([x.startswith(shortest_str[:i+1]) for x in array]):\n",
    "            prefix = shortest_str[:i+1]\n",
    "        else:\n",
    "            \n",
    "            break\n",
    "         \n",
    "            \n",
    "    return prefix"
   ]
  },
  {
   "cell_type": "code",
   "execution_count": 44,
   "metadata": {},
   "outputs": [
    {
     "data": {
      "text/plain": [
       "'fl'"
      ]
     },
     "execution_count": 44,
     "metadata": {},
     "output_type": "execute_result"
    }
   ],
   "source": [
    "CommonPrefix([\"flower\",\"flow\",\"flight\"])"
   ]
  },
  {
   "cell_type": "code",
   "execution_count": null,
   "metadata": {},
   "outputs": [],
   "source": []
  },
  {
   "cell_type": "code",
   "execution_count": null,
   "metadata": {},
   "outputs": [],
   "source": []
  },
  {
   "cell_type": "code",
   "execution_count": null,
   "metadata": {},
   "outputs": [],
   "source": []
  }
 ],
 "metadata": {
  "kernelspec": {
   "display_name": "Python 3",
   "language": "python",
   "name": "python3"
  },
  "language_info": {
   "codemirror_mode": {
    "name": "ipython",
    "version": 3
   },
   "file_extension": ".py",
   "mimetype": "text/x-python",
   "name": "python",
   "nbconvert_exporter": "python",
   "pygments_lexer": "ipython3",
   "version": "3.7.1"
  }
 },
 "nbformat": 4,
 "nbformat_minor": 2
}
