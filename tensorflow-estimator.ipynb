{
 "cells": [
  {
   "cell_type": "code",
   "execution_count": 1,
   "metadata": {},
   "outputs": [],
   "source": [
    "import pandas as pd\n"
   ]
  },
  {
   "cell_type": "code",
   "execution_count": 2,
   "metadata": {},
   "outputs": [],
   "source": [
    "df=pd.read_csv('D:\\marlabs\\Datasets\\iris.csv')"
   ]
  },
  {
   "cell_type": "code",
   "execution_count": 3,
   "metadata": {},
   "outputs": [
    {
     "data": {
      "text/html": [
       "<div>\n",
       "<style scoped>\n",
       "    .dataframe tbody tr th:only-of-type {\n",
       "        vertical-align: middle;\n",
       "    }\n",
       "\n",
       "    .dataframe tbody tr th {\n",
       "        vertical-align: top;\n",
       "    }\n",
       "\n",
       "    .dataframe thead th {\n",
       "        text-align: right;\n",
       "    }\n",
       "</style>\n",
       "<table border=\"1\" class=\"dataframe\">\n",
       "  <thead>\n",
       "    <tr style=\"text-align: right;\">\n",
       "      <th></th>\n",
       "      <th>sepal length (cm)</th>\n",
       "      <th>sepal width (cm)</th>\n",
       "      <th>petal length (cm)</th>\n",
       "      <th>petal width (cm)</th>\n",
       "      <th>target</th>\n",
       "    </tr>\n",
       "  </thead>\n",
       "  <tbody>\n",
       "    <tr>\n",
       "      <th>0</th>\n",
       "      <td>5.1</td>\n",
       "      <td>3.5</td>\n",
       "      <td>1.4</td>\n",
       "      <td>0.2</td>\n",
       "      <td>0.0</td>\n",
       "    </tr>\n",
       "    <tr>\n",
       "      <th>1</th>\n",
       "      <td>4.9</td>\n",
       "      <td>3.0</td>\n",
       "      <td>1.4</td>\n",
       "      <td>0.2</td>\n",
       "      <td>0.0</td>\n",
       "    </tr>\n",
       "    <tr>\n",
       "      <th>2</th>\n",
       "      <td>4.7</td>\n",
       "      <td>3.2</td>\n",
       "      <td>1.3</td>\n",
       "      <td>0.2</td>\n",
       "      <td>0.0</td>\n",
       "    </tr>\n",
       "    <tr>\n",
       "      <th>3</th>\n",
       "      <td>4.6</td>\n",
       "      <td>3.1</td>\n",
       "      <td>1.5</td>\n",
       "      <td>0.2</td>\n",
       "      <td>0.0</td>\n",
       "    </tr>\n",
       "    <tr>\n",
       "      <th>4</th>\n",
       "      <td>5.0</td>\n",
       "      <td>3.6</td>\n",
       "      <td>1.4</td>\n",
       "      <td>0.2</td>\n",
       "      <td>0.0</td>\n",
       "    </tr>\n",
       "  </tbody>\n",
       "</table>\n",
       "</div>"
      ],
      "text/plain": [
       "   sepal length (cm)  sepal width (cm)  petal length (cm)  petal width (cm)  \\\n",
       "0                5.1               3.5                1.4               0.2   \n",
       "1                4.9               3.0                1.4               0.2   \n",
       "2                4.7               3.2                1.3               0.2   \n",
       "3                4.6               3.1                1.5               0.2   \n",
       "4                5.0               3.6                1.4               0.2   \n",
       "\n",
       "   target  \n",
       "0     0.0  \n",
       "1     0.0  \n",
       "2     0.0  \n",
       "3     0.0  \n",
       "4     0.0  "
      ]
     },
     "execution_count": 3,
     "metadata": {},
     "output_type": "execute_result"
    }
   ],
   "source": [
    "df.head()"
   ]
  },
  {
   "cell_type": "code",
   "execution_count": 4,
   "metadata": {},
   "outputs": [],
   "source": [
    "df.columns=['sepal_length','sepal_width','petal_length','petal_width','target']"
   ]
  },
  {
   "cell_type": "code",
   "execution_count": 5,
   "metadata": {},
   "outputs": [],
   "source": [
    "x=df.drop('target',axis=1)"
   ]
  },
  {
   "cell_type": "code",
   "execution_count": 6,
   "metadata": {},
   "outputs": [],
   "source": [
    "y=df['target'].apply(int)"
   ]
  },
  {
   "cell_type": "code",
   "execution_count": 7,
   "metadata": {},
   "outputs": [
    {
     "data": {
      "text/plain": [
       "array([0, 1, 2], dtype=int64)"
      ]
     },
     "execution_count": 7,
     "metadata": {},
     "output_type": "execute_result"
    }
   ],
   "source": [
    "y.unique()"
   ]
  },
  {
   "cell_type": "code",
   "execution_count": 8,
   "metadata": {},
   "outputs": [],
   "source": [
    "from sklearn.model_selection import train_test_split"
   ]
  },
  {
   "cell_type": "code",
   "execution_count": 9,
   "metadata": {},
   "outputs": [],
   "source": [
    "x_train,x_test,y_train,y_test=train_test_split(x,y,test_size=0.3)"
   ]
  },
  {
   "cell_type": "code",
   "execution_count": 10,
   "metadata": {},
   "outputs": [],
   "source": [
    "#Estimators"
   ]
  },
  {
   "cell_type": "code",
   "execution_count": 11,
   "metadata": {},
   "outputs": [],
   "source": [
    "import tensorflow as tf"
   ]
  },
  {
   "cell_type": "code",
   "execution_count": 12,
   "metadata": {},
   "outputs": [
    {
     "data": {
      "text/plain": [
       "Index(['sepal_length', 'sepal_width', 'petal_length', 'petal_width'], dtype='object')"
      ]
     },
     "execution_count": 12,
     "metadata": {},
     "output_type": "execute_result"
    }
   ],
   "source": [
    "x.columns"
   ]
  },
  {
   "cell_type": "code",
   "execution_count": 14,
   "metadata": {},
   "outputs": [],
   "source": [
    "feat_cols=[]\n",
    "for col in x.columns:\n",
    "    feat_cols.append(tf.feature_column.numeric_column(col))\n",
    "    "
   ]
  },
  {
   "cell_type": "code",
   "execution_count": 15,
   "metadata": {},
   "outputs": [
    {
     "data": {
      "text/plain": [
       "[_NumericColumn(key='sepal_length', shape=(1,), default_value=None, dtype=tf.float32, normalizer_fn=None),\n",
       " _NumericColumn(key='sepal_width', shape=(1,), default_value=None, dtype=tf.float32, normalizer_fn=None),\n",
       " _NumericColumn(key='petal_length', shape=(1,), default_value=None, dtype=tf.float32, normalizer_fn=None),\n",
       " _NumericColumn(key='petal_width', shape=(1,), default_value=None, dtype=tf.float32, normalizer_fn=None)]"
      ]
     },
     "execution_count": 15,
     "metadata": {},
     "output_type": "execute_result"
    }
   ],
   "source": [
    "feat_cols\n"
   ]
  },
  {
   "cell_type": "code",
   "execution_count": 16,
   "metadata": {},
   "outputs": [],
   "source": [
    "input_func=tf.estimator.inputs.pandas_input_fn(x=x_train,y=y_train,batch_size=10,num_epochs=5,shuffle=True)"
   ]
  },
  {
   "cell_type": "code",
   "execution_count": 17,
   "metadata": {},
   "outputs": [
    {
     "name": "stdout",
     "output_type": "stream",
     "text": [
      "INFO:tensorflow:Using default config.\n",
      "WARNING:tensorflow:Using temporary folder as model directory: C:\\Users\\RAMESH~1\\AppData\\Local\\Temp\\tmprt7khewy\n",
      "INFO:tensorflow:Using config: {'_model_dir': 'C:\\\\Users\\\\RAMESH~1\\\\AppData\\\\Local\\\\Temp\\\\tmprt7khewy', '_tf_random_seed': 1, '_save_summary_steps': 100, '_save_checkpoints_secs': 600, '_save_checkpoints_steps': None, '_session_config': None, '_keep_checkpoint_max': 5, '_keep_checkpoint_every_n_hours': 10000, '_log_step_count_steps': 100}\n"
     ]
    }
   ],
   "source": [
    "classifier=tf.estimator.DNNClassifier(hidden_units=[10,20,10],n_classes=3,feature_columns=feat_cols)"
   ]
  },
  {
   "cell_type": "code",
   "execution_count": 18,
   "metadata": {},
   "outputs": [
    {
     "name": "stdout",
     "output_type": "stream",
     "text": [
      "INFO:tensorflow:Create CheckpointSaverHook.\n",
      "INFO:tensorflow:Saving checkpoints for 1 into C:\\Users\\RAMESH~1\\AppData\\Local\\Temp\\tmprt7khewy\\model.ckpt.\n",
      "INFO:tensorflow:loss = 10.069707, step = 1\n",
      "INFO:tensorflow:Saving checkpoints for 50 into C:\\Users\\RAMESH~1\\AppData\\Local\\Temp\\tmprt7khewy\\model.ckpt.\n",
      "INFO:tensorflow:Loss for final step: 1.0074309.\n"
     ]
    },
    {
     "data": {
      "text/plain": [
       "<tensorflow.python.estimator.canned.dnn.DNNClassifier at 0x25ae44d588>"
      ]
     },
     "execution_count": 18,
     "metadata": {},
     "output_type": "execute_result"
    }
   ],
   "source": [
    "classifier.train(input_fn=input_func,steps=50)"
   ]
  },
  {
   "cell_type": "code",
   "execution_count": 19,
   "metadata": {},
   "outputs": [],
   "source": [
    "#Model Evaluation\n",
    "pred_fn=tf.estimator.inputs.pandas_input_fn(x=x_test,batch_size=len(x_test),shuffle=False)"
   ]
  },
  {
   "cell_type": "code",
   "execution_count": 20,
   "metadata": {},
   "outputs": [
    {
     "name": "stdout",
     "output_type": "stream",
     "text": [
      "INFO:tensorflow:Restoring parameters from C:\\Users\\RAMESH~1\\AppData\\Local\\Temp\\tmprt7khewy\\model.ckpt-50\n"
     ]
    }
   ],
   "source": [
    "note_predictions=list(classifier.predict(input_fn=pred_fn))"
   ]
  },
  {
   "cell_type": "code",
   "execution_count": 21,
   "metadata": {},
   "outputs": [
    {
     "data": {
      "text/plain": [
       "<generator object Estimator.predict at 0x00000025B10B2308>"
      ]
     },
     "execution_count": 21,
     "metadata": {},
     "output_type": "execute_result"
    }
   ],
   "source": [
    "classifier.predict(input_fn=pred_fn)"
   ]
  },
  {
   "cell_type": "code",
   "execution_count": 22,
   "metadata": {},
   "outputs": [
    {
     "data": {
      "text/plain": [
       "[{'logits': array([-6.395413  , -1.3692952 ,  0.90701556], dtype=float32),\n",
       "  'probabilities': array([6.1078428e-04, 9.3047112e-02, 9.0634215e-01], dtype=float32),\n",
       "  'class_ids': array([2], dtype=int64),\n",
       "  'classes': array([b'2'], dtype=object)},\n",
       " {'logits': array([-3.245899 , -0.3926689, -1.4833515], dtype=float32),\n",
       "  'probabilities': array([0.04137193, 0.7175429 , 0.24108514], dtype=float32),\n",
       "  'class_ids': array([1], dtype=int64),\n",
       "  'classes': array([b'1'], dtype=object)},\n",
       " {'logits': array([ 3.5569043, -0.8175789, -6.273826 ], dtype=float32),\n",
       "  'probabilities': array([9.8750955e-01, 1.2437338e-02, 5.3101809e-05], dtype=float32),\n",
       "  'class_ids': array([0], dtype=int64),\n",
       "  'classes': array([b'0'], dtype=object)},\n",
       " {'logits': array([-7.5943594, -1.6269284,  1.0541668], dtype=float32),\n",
       "  'probabilities': array([1.6411634e-04, 6.4087637e-02, 9.3574828e-01], dtype=float32),\n",
       "  'class_ids': array([2], dtype=int64),\n",
       "  'classes': array([b'2'], dtype=object)},\n",
       " {'logits': array([-8.727936 , -2.1203158,  1.7419791], dtype=float32),\n",
       "  'probabilities': array([2.7792481e-05, 2.0586401e-02, 9.7938579e-01], dtype=float32),\n",
       "  'class_ids': array([2], dtype=int64),\n",
       "  'classes': array([b'2'], dtype=object)},\n",
       " {'logits': array([ 3.1869733 , -0.67937374, -5.7314897 ], dtype=float32),\n",
       "  'probabilities': array([9.7936612e-01, 2.0502739e-02, 1.3113116e-04], dtype=float32),\n",
       "  'class_ids': array([0], dtype=int64),\n",
       "  'classes': array([b'0'], dtype=object)},\n",
       " {'logits': array([-4.170729 , -0.5123809, -1.1958044], dtype=float32),\n",
       "  'probabilities': array([0.01683917, 0.6533127 , 0.32984814], dtype=float32),\n",
       "  'class_ids': array([1], dtype=int64),\n",
       "  'classes': array([b'1'], dtype=object)},\n",
       " {'logits': array([ 3.247731 , -0.6909251, -5.8439145], dtype=float32),\n",
       "  'probabilities': array([9.80789244e-01, 1.91002507e-02, 1.10439476e-04], dtype=float32),\n",
       "  'class_ids': array([0], dtype=int64),\n",
       "  'classes': array([b'0'], dtype=object)},\n",
       " {'logits': array([-4.2569127, -0.5303402, -1.6613731], dtype=float32),\n",
       "  'probabilities': array([0.01787619, 0.7425145 , 0.23960924], dtype=float32),\n",
       "  'class_ids': array([1], dtype=int64),\n",
       "  'classes': array([b'1'], dtype=object)},\n",
       " {'logits': array([-3.5885403 , -0.47081393, -1.2712637 ], dtype=float32),\n",
       "  'probabilities': array([0.02963582, 0.66961986, 0.3007443 ], dtype=float32),\n",
       "  'class_ids': array([1], dtype=int64),\n",
       "  'classes': array([b'1'], dtype=object)},\n",
       " {'logits': array([ 3.0456133 , -0.63245404, -5.511906  ], dtype=float32),\n",
       "  'probabilities': array([9.7516847e-01, 2.4644237e-02, 1.8732510e-04], dtype=float32),\n",
       "  'class_ids': array([0], dtype=int64),\n",
       "  'classes': array([b'0'], dtype=object)},\n",
       " {'logits': array([-4.573283  , -0.6238384 , -0.99877715], dtype=float32),\n",
       "  'probabilities': array([0.01128878, 0.58596146, 0.4027497 ], dtype=float32),\n",
       "  'class_ids': array([1], dtype=int64),\n",
       "  'classes': array([b'1'], dtype=object)},\n",
       " {'logits': array([-4.5916553 , -0.69142973, -0.45067   ], dtype=float32),\n",
       "  'probabilities': array([0.00882781, 0.43621403, 0.55495816], dtype=float32),\n",
       "  'class_ids': array([2], dtype=int64),\n",
       "  'classes': array([b'2'], dtype=object)},\n",
       " {'logits': array([-7.5473433, -1.6098114,  1.0843132], dtype=float32),\n",
       "  'probabilities': array([1.6704651e-04, 6.3310355e-02, 9.3652260e-01], dtype=float32),\n",
       "  'class_ids': array([2], dtype=int64),\n",
       "  'classes': array([b'2'], dtype=object)},\n",
       " {'logits': array([-5.567585  , -0.9120325 , -0.23241208], dtype=float32),\n",
       "  'probabilities': array([0.003188  , 0.33527377, 0.66153824], dtype=float32),\n",
       "  'class_ids': array([2], dtype=int64),\n",
       "  'classes': array([b'2'], dtype=object)},\n",
       " {'logits': array([-5.9783506 , -1.1151367 ,  0.47733188], dtype=float32),\n",
       "  'probabilities': array([0.00130421, 0.16881639, 0.82987934], dtype=float32),\n",
       "  'class_ids': array([2], dtype=int64),\n",
       "  'classes': array([b'2'], dtype=object)},\n",
       " {'logits': array([ 2.720602  , -0.42374265, -5.2182755 ], dtype=float32),\n",
       "  'probabilities': array([9.5835775e-01, 4.1300569e-02, 3.4175659e-04], dtype=float32),\n",
       "  'class_ids': array([0], dtype=int64),\n",
       "  'classes': array([b'0'], dtype=object)},\n",
       " {'logits': array([-5.9904275 , -1.1159431 ,  0.49982214], dtype=float32),\n",
       "  'probabilities': array([0.00126487, 0.16558002, 0.8331551 ], dtype=float32),\n",
       "  'class_ids': array([2], dtype=int64),\n",
       "  'classes': array([b'2'], dtype=object)},\n",
       " {'logits': array([-6.5953264, -1.5279847,  1.1819643], dtype=float32),\n",
       "  'probabilities': array([3.9284173e-04, 6.2364321e-02, 9.3724281e-01], dtype=float32),\n",
       "  'class_ids': array([2], dtype=int64),\n",
       "  'classes': array([b'2'], dtype=object)},\n",
       " {'logits': array([-5.9282475 , -1.0919974 ,  0.46140218], dtype=float32),\n",
       "  'probabilities': array([0.00138381, 0.1743542 , 0.82426196], dtype=float32),\n",
       "  'class_ids': array([2], dtype=int64),\n",
       "  'classes': array([b'2'], dtype=object)},\n",
       " {'logits': array([-6.336788 , -1.2130183,  0.6061413], dtype=float32),\n",
       "  'probabilities': array([8.3003583e-04, 1.3941893e-01, 8.5975105e-01], dtype=float32),\n",
       "  'class_ids': array([2], dtype=int64),\n",
       "  'classes': array([b'2'], dtype=object)},\n",
       " {'logits': array([-6.020625  , -1.0196518 ,  0.30287004], dtype=float32),\n",
       "  'probabilities': array([0.00141428, 0.21010146, 0.7884842 ], dtype=float32),\n",
       "  'class_ids': array([2], dtype=int64),\n",
       "  'classes': array([b'2'], dtype=object)},\n",
       " {'logits': array([ 2.769706 , -0.5126977, -5.1423507], dtype=float32),\n",
       "  'probabilities': array([9.6348000e-01, 3.6167033e-02, 3.5292306e-04], dtype=float32),\n",
       "  'class_ids': array([0], dtype=int64),\n",
       "  'classes': array([b'0'], dtype=object)},\n",
       " {'logits': array([-4.882305 , -0.7557431, -0.656585 ], dtype=float32),\n",
       "  'probabilities': array([0.00761103, 0.47161376, 0.5207752 ], dtype=float32),\n",
       "  'class_ids': array([2], dtype=int64),\n",
       "  'classes': array([b'2'], dtype=object)},\n",
       " {'logits': array([ 2.866922  , -0.55216444, -5.2782807 ], dtype=float32),\n",
       "  'probabilities': array([9.6802372e-01, 3.1695355e-02, 2.8084678e-04], dtype=float32),\n",
       "  'class_ids': array([0], dtype=int64),\n",
       "  'classes': array([b'0'], dtype=object)},\n",
       " {'logits': array([ 3.0779912 , -0.56512964, -5.725745  ], dtype=float32),\n",
       "  'probabilities': array([9.7435433e-01, 2.5499383e-02, 1.4631964e-04], dtype=float32),\n",
       "  'class_ids': array([0], dtype=int64),\n",
       "  'classes': array([b'0'], dtype=object)},\n",
       " {'logits': array([-4.3687544, -0.6074794, -1.2894368], dtype=float32),\n",
       "  'probabilities': array([0.01520987, 0.6540734 , 0.33071673], dtype=float32),\n",
       "  'class_ids': array([1], dtype=int64),\n",
       "  'classes': array([b'1'], dtype=object)},\n",
       " {'logits': array([ 3.3537667, -0.7243681, -6.012296 ], dtype=float32),\n",
       "  'probabilities': array([9.8326033e-01, 1.6655480e-02, 8.4147061e-05], dtype=float32),\n",
       "  'class_ids': array([0], dtype=int64),\n",
       "  'classes': array([b'0'], dtype=object)},\n",
       " {'logits': array([ 3.0456133 , -0.63245404, -5.511906  ], dtype=float32),\n",
       "  'probabilities': array([9.7516847e-01, 2.4644237e-02, 1.8732510e-04], dtype=float32),\n",
       "  'class_ids': array([0], dtype=int64),\n",
       "  'classes': array([b'0'], dtype=object)},\n",
       " {'logits': array([ 2.8954906 , -0.56385374, -5.318035  ], dtype=float32),\n",
       "  'probabilities': array([9.6925396e-01, 3.0483400e-02, 2.6263262e-04], dtype=float32),\n",
       "  'class_ids': array([0], dtype=int64),\n",
       "  'classes': array([b'0'], dtype=object)},\n",
       " {'logits': array([-4.3877683 , -0.70799106, -0.37806273], dtype=float32),\n",
       "  'probabilities': array([0.01044188, 0.4138907 , 0.5756675 ], dtype=float32),\n",
       "  'class_ids': array([2], dtype=int64),\n",
       "  'classes': array([b'2'], dtype=object)},\n",
       " {'logits': array([ 2.834581  , -0.48513472, -5.345971  ], dtype=float32),\n",
       "  'probabilities': array([9.6483827e-01, 3.4891561e-02, 2.7020049e-04], dtype=float32),\n",
       "  'class_ids': array([0], dtype=int64),\n",
       "  'classes': array([b'0'], dtype=object)},\n",
       " {'logits': array([ 3.1913824, -0.618917 , -5.868049 ], dtype=float32),\n",
       "  'probabilities': array([9.7822672e-01, 2.1659456e-02, 1.1375712e-04], dtype=float32),\n",
       "  'class_ids': array([0], dtype=int64),\n",
       "  'classes': array([b'0'], dtype=object)},\n",
       " {'logits': array([-2.5311651 , -0.22280854, -2.1243699 ], dtype=float32),\n",
       "  'probabilities': array([0.07961861, 0.80079454, 0.11958689], dtype=float32),\n",
       "  'class_ids': array([1], dtype=int64),\n",
       "  'classes': array([b'1'], dtype=object)},\n",
       " {'logits': array([-3.6490705 , -0.43462127, -1.4886112 ], dtype=float32),\n",
       "  'probabilities': array([0.02893125, 0.72008663, 0.2509821 ], dtype=float32),\n",
       "  'class_ids': array([1], dtype=int64),\n",
       "  'classes': array([b'1'], dtype=object)},\n",
       " {'logits': array([ 4.035661 , -0.943707 , -7.0861735], dtype=float32),\n",
       "  'probabilities': array([9.9315405e-01, 6.8313177e-03, 1.4684702e-05], dtype=float32),\n",
       "  'class_ids': array([0], dtype=int64),\n",
       "  'classes': array([b'0'], dtype=object)},\n",
       " {'logits': array([-5.665621  , -0.9789256 , -0.01399063], dtype=float32),\n",
       "  'probabilities': array([0.00253647, 0.27519143, 0.7222721 ], dtype=float32),\n",
       "  'class_ids': array([2], dtype=int64),\n",
       "  'classes': array([b'2'], dtype=object)},\n",
       " {'logits': array([-7.7787046 , -1.48323   ,  0.70947146], dtype=float32),\n",
       "  'probabilities': array([1.8518128e-04, 1.0038924e-01, 8.9942563e-01], dtype=float32),\n",
       "  'class_ids': array([2], dtype=int64),\n",
       "  'classes': array([b'2'], dtype=object)},\n",
       " {'logits': array([-7.4049416, -1.66908  ,  1.2372122], dtype=float32),\n",
       "  'probabilities': array([1.6732766e-04, 5.1834717e-02, 9.4799793e-01], dtype=float32),\n",
       "  'class_ids': array([2], dtype=int64),\n",
       "  'classes': array([b'2'], dtype=object)},\n",
       " {'logits': array([-7.044141 , -1.6097769,  1.2122195], dtype=float32),\n",
       "  'probabilities': array([2.449663e-04, 5.613330e-02, 9.436218e-01], dtype=float32),\n",
       "  'class_ids': array([2], dtype=int64),\n",
       "  'classes': array([b'2'], dtype=object)},\n",
       " {'logits': array([-7.213737 , -1.6429526,  1.2407086], dtype=float32),\n",
       "  'probabilities': array([2.0163145e-04, 5.2956499e-02, 9.4684184e-01], dtype=float32),\n",
       "  'class_ids': array([2], dtype=int64),\n",
       "  'classes': array([b'2'], dtype=object)},\n",
       " {'logits': array([-3.5819561, -0.4821508, -1.1663893], dtype=float32),\n",
       "  'probabilities': array([0.02907844, 0.64535606, 0.3255655 ], dtype=float32),\n",
       "  'class_ids': array([1], dtype=int64),\n",
       "  'classes': array([b'1'], dtype=object)},\n",
       " {'logits': array([ 3.1472049, -0.6772851, -5.6464386], dtype=float32),\n",
       "  'probabilities': array([9.7849143e-01, 2.1360042e-02, 1.4843147e-04], dtype=float32),\n",
       "  'class_ids': array([0], dtype=int64),\n",
       "  'classes': array([b'0'], dtype=object)},\n",
       " {'logits': array([-3.8478625 , -0.50265026, -1.1569653 ], dtype=float32),\n",
       "  'probabilities': array([0.02266983, 0.64306587, 0.33426434], dtype=float32),\n",
       "  'class_ids': array([1], dtype=int64),\n",
       "  'classes': array([b'1'], dtype=object)},\n",
       " {'logits': array([ 3.0913699, -0.6752088, -5.525234 ], dtype=float32),\n",
       "  'probabilities': array([9.7721899e-01, 2.2604117e-02, 1.7694912e-04], dtype=float32),\n",
       "  'class_ids': array([0], dtype=int64),\n",
       "  'classes': array([b'0'], dtype=object)}]"
      ]
     },
     "execution_count": 22,
     "metadata": {},
     "output_type": "execute_result"
    }
   ],
   "source": [
    "note_predictions"
   ]
  },
  {
   "cell_type": "code",
   "execution_count": 23,
   "metadata": {},
   "outputs": [
    {
     "data": {
      "text/plain": [
       "{'logits': array([-6.395413  , -1.3692952 ,  0.90701556], dtype=float32),\n",
       " 'probabilities': array([6.1078428e-04, 9.3047112e-02, 9.0634215e-01], dtype=float32),\n",
       " 'class_ids': array([2], dtype=int64),\n",
       " 'classes': array([b'2'], dtype=object)}"
      ]
     },
     "execution_count": 23,
     "metadata": {},
     "output_type": "execute_result"
    }
   ],
   "source": [
    "note_predictions[0]"
   ]
  },
  {
   "cell_type": "code",
   "execution_count": 24,
   "metadata": {},
   "outputs": [
    {
     "data": {
      "text/plain": [
       "2"
      ]
     },
     "execution_count": 24,
     "metadata": {},
     "output_type": "execute_result"
    }
   ],
   "source": [
    "note_predictions[0]['class_ids'][0]"
   ]
  },
  {
   "cell_type": "code",
   "execution_count": 25,
   "metadata": {},
   "outputs": [],
   "source": [
    "final_preds=[]\n",
    "for pred in note_predictions:\n",
    "    final_preds.append(pred['class_ids'][0])"
   ]
  },
  {
   "cell_type": "code",
   "execution_count": 26,
   "metadata": {},
   "outputs": [
    {
     "data": {
      "text/plain": [
       "[2,\n",
       " 1,\n",
       " 0,\n",
       " 2,\n",
       " 2,\n",
       " 0,\n",
       " 1,\n",
       " 0,\n",
       " 1,\n",
       " 1,\n",
       " 0,\n",
       " 1,\n",
       " 2,\n",
       " 2,\n",
       " 2,\n",
       " 2,\n",
       " 0,\n",
       " 2,\n",
       " 2,\n",
       " 2,\n",
       " 2,\n",
       " 2,\n",
       " 0,\n",
       " 2,\n",
       " 0,\n",
       " 0,\n",
       " 1,\n",
       " 0,\n",
       " 0,\n",
       " 0,\n",
       " 2,\n",
       " 0,\n",
       " 0,\n",
       " 1,\n",
       " 1,\n",
       " 0,\n",
       " 2,\n",
       " 2,\n",
       " 2,\n",
       " 2,\n",
       " 2,\n",
       " 1,\n",
       " 0,\n",
       " 1,\n",
       " 0]"
      ]
     },
     "execution_count": 26,
     "metadata": {},
     "output_type": "execute_result"
    }
   ],
   "source": [
    "final_preds"
   ]
  },
  {
   "cell_type": "code",
   "execution_count": 27,
   "metadata": {},
   "outputs": [],
   "source": [
    "from sklearn.metrics import confusion_matrix,classification_report\n"
   ]
  },
  {
   "cell_type": "code",
   "execution_count": 28,
   "metadata": {},
   "outputs": [
    {
     "name": "stdout",
     "output_type": "stream",
     "text": [
      "[[16  0  0]\n",
      " [ 0 10  5]\n",
      " [ 0  0 14]]\n"
     ]
    }
   ],
   "source": [
    "print(confusion_matrix(y_test,final_preds))"
   ]
  },
  {
   "cell_type": "code",
   "execution_count": 29,
   "metadata": {},
   "outputs": [
    {
     "name": "stdout",
     "output_type": "stream",
     "text": [
      "              precision    recall  f1-score   support\n",
      "\n",
      "           0       1.00      1.00      1.00        16\n",
      "           1       1.00      0.67      0.80        15\n",
      "           2       0.74      1.00      0.85        14\n",
      "\n",
      "   micro avg       0.89      0.89      0.89        45\n",
      "   macro avg       0.91      0.89      0.88        45\n",
      "weighted avg       0.92      0.89      0.89        45\n",
      "\n"
     ]
    }
   ],
   "source": [
    "print(classification_report(y_test,final_preds))"
   ]
  },
  {
   "cell_type": "code",
   "execution_count": null,
   "metadata": {},
   "outputs": [],
   "source": []
  }
 ],
 "metadata": {
  "kernelspec": {
   "display_name": "Python 3",
   "language": "python",
   "name": "python3"
  },
  "language_info": {
   "codemirror_mode": {
    "name": "ipython",
    "version": 3
   },
   "file_extension": ".py",
   "mimetype": "text/x-python",
   "name": "python",
   "nbconvert_exporter": "python",
   "pygments_lexer": "ipython3",
   "version": "3.6.7"
  }
 },
 "nbformat": 4,
 "nbformat_minor": 2
}
