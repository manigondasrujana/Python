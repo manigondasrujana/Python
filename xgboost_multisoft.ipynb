{
 "cells": [
  {
   "cell_type": "code",
   "execution_count": 1,
   "metadata": {},
   "outputs": [],
   "source": [
    "import pandas as pd\n",
    "import xgboost as xgb\n",
    "import json\n",
    "import warnings\n",
    "warnings.filterwarnings('ignore')"
   ]
  },
  {
   "cell_type": "code",
   "execution_count": 2,
   "metadata": {},
   "outputs": [],
   "source": [
    "config = json.load(open('settings.json'))\n",
    "train = pd.read_csv(config['train'])\n",
    "test = pd.read_csv(config['test'])"
   ]
  },
  {
   "cell_type": "code",
   "execution_count": 3,
   "metadata": {},
   "outputs": [],
   "source": [
    "all_data = train.append(test)\n"
   ]
  },
  {
   "cell_type": "code",
   "execution_count": 4,
   "metadata": {},
   "outputs": [],
   "source": [
    "all_data['Product_Info_2_char'] = all_data.Product_Info_2.str[0]\n",
    "all_data['Product_Info_2_num'] = all_data.Product_Info_2.str[1]\n",
    "all_data['Product_Info_2'] = pd.factorize(all_data['Product_Info_2'])[0]\n",
    "all_data['Product_Info_2_char'] = pd.factorize(all_data['Product_Info_2_char'])[0]\n",
    "all_data['Product_Info_2_num'] = pd.factorize(all_data['Product_Info_2_num'])[0]\n",
    "all_data['BMI_Age'] = all_data['BMI'] * all_data['Ins_Age']\n",
    "med_keyword_columns = all_data.columns[all_data.columns.str.startswith('Medical_Keyword_')]\n",
    "all_data['Med_Keywords_Count'] = all_data[med_keyword_columns].sum(axis=1)\n",
    "all_data.apply(lambda x: sum(x.isnull()),1)\n",
    "all_data['countna'] = all_data.apply(lambda x: sum(x.isnull()),1)\n",
    "all_data.fillna(-1, inplace=True)\n",
    "all_data['Response'] = all_data['Response'].astype(int)"
   ]
  },
  {
   "cell_type": "code",
   "execution_count": 5,
   "metadata": {},
   "outputs": [],
   "source": [
    "train_ohd = all_data[all_data['Response']>0].copy()\n",
    "test_ohd = all_data[all_data['Response']<1].copy()"
   ]
  },
  {
   "cell_type": "code",
   "execution_count": 6,
   "metadata": {},
   "outputs": [],
   "source": [
    "features=train_ohd.columns.tolist()\n",
    "features = [x.replace('=','_') for x in features]\n",
    "features = [x.replace('_','i') for x in features]\n",
    "train_ohd.columns = features"
   ]
  },
  {
   "cell_type": "code",
   "execution_count": 7,
   "metadata": {},
   "outputs": [],
   "source": [
    "features_t=test_ohd.columns.tolist()\n",
    "features_t = [x.replace('=','i') for x in features_t]\n",
    "features_t = [x.replace('_','i') for x in features_t]\n",
    "test_ohd.columns = features_t"
   ]
  },
  {
   "cell_type": "code",
   "execution_count": 8,
   "metadata": {},
   "outputs": [],
   "source": [
    "features.remove(\"Id\")\n",
    "features.remove(\"Response\")"
   ]
  },
  {
   "cell_type": "code",
   "execution_count": 9,
   "metadata": {},
   "outputs": [],
   "source": [
    "train_ohd['pr1'] = [0]*train_ohd.shape[0]\n",
    "train_ohd['pr2'] = [0]*train_ohd.shape[0]\n",
    "train_ohd['pr3'] = [0]*train_ohd.shape[0]\n",
    "train_ohd['pr4'] = [0]*train_ohd.shape[0]\n",
    "train_ohd['pr5'] = [0]*train_ohd.shape[0]\n",
    "train_ohd['pr6'] = [0]*train_ohd.shape[0]\n",
    "train_ohd['pr7'] = [0]*train_ohd.shape[0]\n",
    "train_ohd['pr8'] = [0]*train_ohd.shape[0]\n"
   ]
  },
  {
   "cell_type": "code",
   "execution_count": 10,
   "metadata": {},
   "outputs": [],
   "source": [
    "l = train_ohd.shape[0]\n",
    "ind_list = [(range(0,l//10), list(filter(lambda x: x not in range(0,l//10), range(0,l)))), \n",
    "            (range(l//10,l//10*2), list(filter(lambda x: x not in range(l//10,l//10*2), range(0,l)))),\n",
    "            (range(l//10*2,l//10*3), list(filter(lambda x: x not in range(l//10*2,l//10*3), range(0,l)))),\n",
    "            (range(l//10*3,l//10*4), list(filter(lambda x: x not in range(l//10*3,l//10*4), range(0,l)))),\n",
    "            (range(l//10*4,l//10*5), list(filter(lambda x: x not in range(l//10*4,l//10*5), range(0,l)))),\n",
    "            (range(l//10*5,l//10*6), list(filter(lambda x: x not in range(l//10*5,l//10*6), range(0,l)))),\n",
    "            (range(l//10*6,l//10*7), list(filter(lambda x: x not in range(l//10*6,l//10*7), range(0,l)))),\n",
    "            (range(l//10*7,l//10*8), list(filter(lambda x: x not in range(l//10*7,l//10*8), range(0,l)))),\n",
    "            (range(l//10*8,l//10*9), list(filter(lambda x: x not in range(l//10*8,l//10*9), range(0,l)))),\n",
    "            (range(l//10*9,l), list(filter(lambda x: x not in range(l//10*9,l), range(0,l))))]"
   ]
  },
  {
   "cell_type": "code",
   "execution_count": 11,
   "metadata": {},
   "outputs": [],
   "source": [
    "param = {'max_depth' : 4, \n",
    "         'eta' : 0.01, \n",
    "         'silent' : 1, \n",
    "         'min_child_weight' : 10, \n",
    "         'subsample' : 0.5,\n",
    "         'early_stopping_rounds' : 100,\n",
    "         'objective'   : 'multi:softprob',\n",
    "         'num_class' : 8,\n",
    "         'colsample_bytree' : 0.3,\n",
    "         'seed' : 0}\n",
    "\n",
    "num_round=7000\n"
   ]
  },
  {
   "cell_type": "code",
   "execution_count": 12,
   "metadata": {},
   "outputs": [],
   "source": [
    "for j in range(10):\n",
    "    \n",
    "    X_1, X_2 = ind_list[j][1], ind_list[j][0]\n",
    "    y_1, y_2 = train_ohd.iloc[X_1]['Response'] - 1, train_ohd.iloc[X_2]['Response'] - 1\n",
    "    \n",
    "    dtrain=xgb.DMatrix(train_ohd.iloc[X_1][features],y_1,missing=float('nan'))\n",
    "    dval=xgb.DMatrix(train_ohd.iloc[X_2][features],y_2,missing=float('nan'))\n",
    "    \n",
    "#    watchlist  = [(dtrain,'train'), (dval,'valid')]\n",
    "    \n",
    "    bst = xgb.train(param, dtrain, num_round)\n",
    "    for k in range(1,9):\n",
    "        train_ohd['pr%s' % (k)].iloc[X_2] = bst.predict(dval).T[k-1]\n",
    "\n",
    "train_ohd.to_csv(config['train_p1'],index=0)"
   ]
  },
  {
   "cell_type": "code",
   "execution_count": 12,
   "metadata": {},
   "outputs": [],
   "source": [
    "y = train_ohd['Response'] - 1\n",
    "dtrain=xgb.DMatrix(train_ohd[features],y,missing=float('nan'))\n",
    "dtest=xgb.DMatrix(test_ohd[features],missing=float('nan'))\n",
    "\n",
    "#watchlist  = [(dtrain,'train')]\n",
    "\n",
    "bst = xgb.train(param, dtrain, num_round)\n",
    "for k in range(1,9):    \n",
    "    test_ohd['pr%s' % (k)] = bst.predict(dtest).T[k-1]\n",
    "\n",
    "test_ohd.to_csv(config['test_p1'],index=0)"
   ]
  },
  {
   "cell_type": "code",
   "execution_count": null,
   "metadata": {},
   "outputs": [],
   "source": []
  }
 ],
 "metadata": {
  "kernelspec": {
   "display_name": "Python 3",
   "language": "python",
   "name": "python3"
  },
  "language_info": {
   "codemirror_mode": {
    "name": "ipython",
    "version": 3
   },
   "file_extension": ".py",
   "mimetype": "text/x-python",
   "name": "python",
   "nbconvert_exporter": "python",
   "pygments_lexer": "ipython3",
   "version": "3.6.7"
  }
 },
 "nbformat": 4,
 "nbformat_minor": 2
}
