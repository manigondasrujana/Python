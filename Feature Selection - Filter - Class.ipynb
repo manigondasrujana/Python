{
 "cells": [
  {
   "cell_type": "code",
   "execution_count": 1,
   "metadata": {},
   "outputs": [],
   "source": [
    "import pandas as pd\n",
    "import numpy as np\n",
    "\n",
    "from sklearn.model_selection import train_test_split\n",
    "from sklearn.feature_selection import VarianceThreshold"
   ]
  },
  {
   "cell_type": "code",
   "execution_count": 2,
   "metadata": {},
   "outputs": [],
   "source": [
    "data= pd.read_csv(\"D:\\marlabs\\Datasets\\santander.csv\")"
   ]
  },
  {
   "cell_type": "code",
   "execution_count": 3,
   "metadata": {},
   "outputs": [
    {
     "data": {
      "text/plain": [
       "(76020, 371)"
      ]
     },
     "execution_count": 3,
     "metadata": {},
     "output_type": "execute_result"
    }
   ],
   "source": [
    "data.shape"
   ]
  },
  {
   "cell_type": "code",
   "execution_count": 4,
   "metadata": {},
   "outputs": [
    {
     "data": {
      "text/plain": [
       "Index(['ID', 'var3', 'var15', 'imp_ent_var16_ult1', 'imp_op_var39_comer_ult1',\n",
       "       'imp_op_var39_comer_ult3', 'imp_op_var40_comer_ult1',\n",
       "       'imp_op_var40_comer_ult3', 'imp_op_var40_efect_ult1',\n",
       "       'imp_op_var40_efect_ult3',\n",
       "       ...\n",
       "       'saldo_medio_var33_hace2', 'saldo_medio_var33_hace3',\n",
       "       'saldo_medio_var33_ult1', 'saldo_medio_var33_ult3',\n",
       "       'saldo_medio_var44_hace2', 'saldo_medio_var44_hace3',\n",
       "       'saldo_medio_var44_ult1', 'saldo_medio_var44_ult3', 'var38', 'TARGET'],\n",
       "      dtype='object', length=371)"
      ]
     },
     "execution_count": 4,
     "metadata": {},
     "output_type": "execute_result"
    }
   ],
   "source": [
    "data.columns"
   ]
  },
  {
   "cell_type": "code",
   "execution_count": 5,
   "metadata": {},
   "outputs": [],
   "source": [
    "x_train, x_test, y_train, y_test = train_test_split(data.drop(labels = ['TARGET'], axis = 1), data['TARGET'], test_size = 0.3, random_state = 123)"
   ]
  },
  {
   "cell_type": "code",
   "execution_count": 6,
   "metadata": {},
   "outputs": [
    {
     "data": {
      "text/plain": [
       "31818    0\n",
       "46129    0\n",
       "35841    0\n",
       "69412    0\n",
       "68358    0\n",
       "Name: TARGET, dtype: int64"
      ]
     },
     "execution_count": 6,
     "metadata": {},
     "output_type": "execute_result"
    }
   ],
   "source": [
    "y_train.head()"
   ]
  },
  {
   "cell_type": "code",
   "execution_count": 7,
   "metadata": {},
   "outputs": [],
   "source": [
    "# Constant Features\n",
    "# std == 0\n",
    "# 1,,1,1,1,1,1 std ==0\n",
    "constant_features = [feat for feat in x_train.columns if x_train[feat].std() == 0]"
   ]
  },
  {
   "cell_type": "code",
   "execution_count": 8,
   "metadata": {},
   "outputs": [
    {
     "data": {
      "text/plain": [
       "Index(['ID', 'var3', 'var15', 'imp_ent_var16_ult1', 'imp_op_var39_comer_ult1',\n",
       "       'imp_op_var39_comer_ult3', 'imp_op_var40_comer_ult1',\n",
       "       'imp_op_var40_comer_ult3', 'imp_op_var40_efect_ult1',\n",
       "       'imp_op_var40_efect_ult3',\n",
       "       ...\n",
       "       'saldo_medio_var29_ult3', 'saldo_medio_var33_hace2',\n",
       "       'saldo_medio_var33_hace3', 'saldo_medio_var33_ult1',\n",
       "       'saldo_medio_var33_ult3', 'saldo_medio_var44_hace2',\n",
       "       'saldo_medio_var44_hace3', 'saldo_medio_var44_ult1',\n",
       "       'saldo_medio_var44_ult3', 'var38'],\n",
       "      dtype='object', length=370)"
      ]
     },
     "execution_count": 8,
     "metadata": {},
     "output_type": "execute_result"
    }
   ],
   "source": [
    "x_train.columns"
   ]
  },
  {
   "cell_type": "code",
   "execution_count": 9,
   "metadata": {},
   "outputs": [
    {
     "data": {
      "text/plain": [
       "['ind_var2_0',\n",
       " 'ind_var2',\n",
       " 'ind_var27_0',\n",
       " 'ind_var28_0',\n",
       " 'ind_var28',\n",
       " 'ind_var27',\n",
       " 'ind_var41',\n",
       " 'ind_var46_0',\n",
       " 'ind_var46',\n",
       " 'num_var27_0',\n",
       " 'num_var28_0',\n",
       " 'num_var28',\n",
       " 'num_var27',\n",
       " 'num_var41',\n",
       " 'num_var46_0',\n",
       " 'num_var46',\n",
       " 'saldo_var28',\n",
       " 'saldo_var27',\n",
       " 'saldo_var41',\n",
       " 'saldo_var46',\n",
       " 'delta_imp_reemb_var33_1y3',\n",
       " 'delta_imp_trasp_var33_out_1y3',\n",
       " 'delta_num_reemb_var33_1y3',\n",
       " 'delta_num_trasp_var33_out_1y3',\n",
       " 'imp_amort_var18_hace3',\n",
       " 'imp_amort_var34_hace3',\n",
       " 'imp_reemb_var13_hace3',\n",
       " 'imp_reemb_var17_hace3',\n",
       " 'imp_reemb_var33_hace3',\n",
       " 'imp_reemb_var33_ult1',\n",
       " 'imp_trasp_var17_out_hace3',\n",
       " 'imp_trasp_var33_out_hace3',\n",
       " 'imp_trasp_var33_out_ult1',\n",
       " 'num_var2_0_ult1',\n",
       " 'num_var2_ult1',\n",
       " 'num_reemb_var13_hace3',\n",
       " 'num_reemb_var17_hace3',\n",
       " 'num_reemb_var33_hace3',\n",
       " 'num_reemb_var33_ult1',\n",
       " 'num_trasp_var17_out_hace3',\n",
       " 'num_trasp_var33_out_hace3',\n",
       " 'num_trasp_var33_out_ult1',\n",
       " 'saldo_var2_ult1',\n",
       " 'saldo_medio_var13_medio_hace3',\n",
       " 'saldo_medio_var29_hace3']"
      ]
     },
     "execution_count": 9,
     "metadata": {},
     "output_type": "execute_result"
    }
   ],
   "source": [
    "constant_features"
   ]
  },
  {
   "cell_type": "code",
   "execution_count": 10,
   "metadata": {},
   "outputs": [
    {
     "data": {
      "text/plain": [
       "((53214, 370), (22806, 370))"
      ]
     },
     "execution_count": 10,
     "metadata": {},
     "output_type": "execute_result"
    }
   ],
   "source": [
    "x_train.shape,x_test.shape"
   ]
  },
  {
   "cell_type": "code",
   "execution_count": 11,
   "metadata": {},
   "outputs": [],
   "source": [
    "x_train.drop(labels = constant_features, axis = 1, inplace = True)"
   ]
  },
  {
   "cell_type": "code",
   "execution_count": 12,
   "metadata": {},
   "outputs": [],
   "source": [
    "x_test.drop(labels = constant_features, axis = 1, inplace = True)"
   ]
  },
  {
   "cell_type": "code",
   "execution_count": 13,
   "metadata": {},
   "outputs": [
    {
     "data": {
      "text/plain": [
       "((53214, 325), (22806, 325))"
      ]
     },
     "execution_count": 13,
     "metadata": {},
     "output_type": "execute_result"
    }
   ],
   "source": [
    "x_train.shape, x_test.shape"
   ]
  },
  {
   "cell_type": "code",
   "execution_count": 14,
   "metadata": {},
   "outputs": [
    {
     "data": {
      "text/plain": [
       "VarianceThreshold(threshold=0.02)"
      ]
     },
     "execution_count": 14,
     "metadata": {},
     "output_type": "execute_result"
    }
   ],
   "source": [
    "# Remove Quasi Constant\n",
    "sel = VarianceThreshold(threshold = 0.02)\n",
    "sel.fit(x_train)"
   ]
  },
  {
   "cell_type": "code",
   "execution_count": 15,
   "metadata": {},
   "outputs": [
    {
     "data": {
      "text/plain": [
       "258"
      ]
     },
     "execution_count": 15,
     "metadata": {},
     "output_type": "execute_result"
    }
   ],
   "source": [
    "sum(sel.get_support())"
   ]
  },
  {
   "cell_type": "code",
   "execution_count": 16,
   "metadata": {},
   "outputs": [],
   "source": [
    "features_to_keep = x_train.columns[sel.get_support()]"
   ]
  },
  {
   "cell_type": "code",
   "execution_count": 17,
   "metadata": {},
   "outputs": [
    {
     "data": {
      "text/plain": [
       "Index(['ID', 'var3', 'var15', 'imp_ent_var16_ult1', 'imp_op_var39_comer_ult1',\n",
       "       'imp_op_var39_comer_ult3', 'imp_op_var40_comer_ult1',\n",
       "       'imp_op_var40_comer_ult3', 'imp_op_var40_efect_ult1',\n",
       "       'imp_op_var40_efect_ult3',\n",
       "       ...\n",
       "       'saldo_medio_var29_ult3', 'saldo_medio_var33_hace2',\n",
       "       'saldo_medio_var33_hace3', 'saldo_medio_var33_ult1',\n",
       "       'saldo_medio_var33_ult3', 'saldo_medio_var44_hace2',\n",
       "       'saldo_medio_var44_hace3', 'saldo_medio_var44_ult1',\n",
       "       'saldo_medio_var44_ult3', 'var38'],\n",
       "      dtype='object', length=258)"
      ]
     },
     "execution_count": 17,
     "metadata": {},
     "output_type": "execute_result"
    }
   ],
   "source": [
    "features_to_keep"
   ]
  },
  {
   "cell_type": "code",
   "execution_count": 18,
   "metadata": {},
   "outputs": [],
   "source": [
    "x_train = sel.transform(x_train)\n",
    "x_test = sel.transform(x_test)"
   ]
  },
  {
   "cell_type": "code",
   "execution_count": 19,
   "metadata": {},
   "outputs": [
    {
     "data": {
      "text/plain": [
       "(53214, 258)"
      ]
     },
     "execution_count": 19,
     "metadata": {},
     "output_type": "execute_result"
    }
   ],
   "source": [
    "x_train.shape"
   ]
  },
  {
   "cell_type": "code",
   "execution_count": null,
   "metadata": {},
   "outputs": [],
   "source": []
  },
  {
   "cell_type": "code",
   "execution_count": null,
   "metadata": {},
   "outputs": [],
   "source": []
  },
  {
   "cell_type": "code",
   "execution_count": 21,
   "metadata": {},
   "outputs": [],
   "source": [
    "x_train = pd.DataFrame(x_train)\n",
    "x_train.columns = features_to_keep\n",
    "\n",
    "x_test = pd.DataFrame(x_test)\n",
    "x_test.columns = features_to_keep"
   ]
  },
  {
   "cell_type": "code",
   "execution_count": 22,
   "metadata": {},
   "outputs": [
    {
     "data": {
      "text/plain": [
       "range(0, 258)"
      ]
     },
     "execution_count": 22,
     "metadata": {},
     "output_type": "execute_result"
    }
   ],
   "source": [
    "range(0,len(x_train.columns))"
   ]
  },
  {
   "cell_type": "code",
   "execution_count": 23,
   "metadata": {},
   "outputs": [
    {
     "data": {
      "text/plain": [
       "'var15'"
      ]
     },
     "execution_count": 23,
     "metadata": {},
     "output_type": "execute_result"
    }
   ],
   "source": [
    "x_train.columns[2]"
   ]
  },
  {
   "cell_type": "code",
   "execution_count": 24,
   "metadata": {},
   "outputs": [],
   "source": [
    "# check the duplicate\n",
    "duplicate_feat = []\n",
    "for i in range(0, len(x_train.columns)):\n",
    "    col_1 = x_train.columns[i]\n",
    "    \n",
    "    for col_2 in x_train.columns[i +1:]:\n",
    "        if x_train[col_1].equals(x_train[col_2]):\n",
    "            duplicate_feat.append(col_2)"
   ]
  },
  {
   "cell_type": "code",
   "execution_count": 25,
   "metadata": {},
   "outputs": [
    {
     "data": {
      "text/plain": [
       "['ind_var26',\n",
       " 'ind_var25',\n",
       " 'ind_var37',\n",
       " 'num_var26',\n",
       " 'num_var25',\n",
       " 'num_var32',\n",
       " 'num_var37',\n",
       " 'num_var39',\n",
       " 'saldo_var29',\n",
       " 'saldo_medio_var13_medio_ult1',\n",
       " 'delta_num_reemb_var13_1y3',\n",
       " 'delta_num_reemb_var17_1y3',\n",
       " 'delta_num_trasp_var17_in_1y3',\n",
       " 'delta_num_trasp_var17_out_1y3',\n",
       " 'delta_num_trasp_var33_in_1y3']"
      ]
     },
     "execution_count": 25,
     "metadata": {},
     "output_type": "execute_result"
    }
   ],
   "source": [
    "duplicate_feat"
   ]
  },
  {
   "cell_type": "code",
   "execution_count": 26,
   "metadata": {},
   "outputs": [],
   "source": [
    "## remove highly correlated features\n",
    "corrmat = x_train.corr()"
   ]
  },
  {
   "cell_type": "code",
   "execution_count": 27,
   "metadata": {},
   "outputs": [
    {
     "data": {
      "text/html": [
       "<div>\n",
       "<style scoped>\n",
       "    .dataframe tbody tr th:only-of-type {\n",
       "        vertical-align: middle;\n",
       "    }\n",
       "\n",
       "    .dataframe tbody tr th {\n",
       "        vertical-align: top;\n",
       "    }\n",
       "\n",
       "    .dataframe thead th {\n",
       "        text-align: right;\n",
       "    }\n",
       "</style>\n",
       "<table border=\"1\" class=\"dataframe\">\n",
       "  <thead>\n",
       "    <tr style=\"text-align: right;\">\n",
       "      <th></th>\n",
       "      <th>ID</th>\n",
       "      <th>var3</th>\n",
       "      <th>var15</th>\n",
       "      <th>imp_ent_var16_ult1</th>\n",
       "      <th>imp_op_var39_comer_ult1</th>\n",
       "      <th>imp_op_var39_comer_ult3</th>\n",
       "      <th>imp_op_var40_comer_ult1</th>\n",
       "      <th>imp_op_var40_comer_ult3</th>\n",
       "      <th>imp_op_var40_efect_ult1</th>\n",
       "      <th>imp_op_var40_efect_ult3</th>\n",
       "      <th>...</th>\n",
       "      <th>saldo_medio_var29_ult3</th>\n",
       "      <th>saldo_medio_var33_hace2</th>\n",
       "      <th>saldo_medio_var33_hace3</th>\n",
       "      <th>saldo_medio_var33_ult1</th>\n",
       "      <th>saldo_medio_var33_ult3</th>\n",
       "      <th>saldo_medio_var44_hace2</th>\n",
       "      <th>saldo_medio_var44_hace3</th>\n",
       "      <th>saldo_medio_var44_ult1</th>\n",
       "      <th>saldo_medio_var44_ult3</th>\n",
       "      <th>var38</th>\n",
       "    </tr>\n",
       "  </thead>\n",
       "  <tbody>\n",
       "    <tr>\n",
       "      <th>0</th>\n",
       "      <td>63565.0</td>\n",
       "      <td>2.0</td>\n",
       "      <td>25.0</td>\n",
       "      <td>0.0</td>\n",
       "      <td>0.00</td>\n",
       "      <td>0.00</td>\n",
       "      <td>0.0</td>\n",
       "      <td>0.0</td>\n",
       "      <td>0.0</td>\n",
       "      <td>0.0</td>\n",
       "      <td>...</td>\n",
       "      <td>0.0</td>\n",
       "      <td>0.0</td>\n",
       "      <td>0.0</td>\n",
       "      <td>0.0</td>\n",
       "      <td>0.0</td>\n",
       "      <td>0.0</td>\n",
       "      <td>0.0</td>\n",
       "      <td>0.0</td>\n",
       "      <td>0.0</td>\n",
       "      <td>95818.20</td>\n",
       "    </tr>\n",
       "    <tr>\n",
       "      <th>1</th>\n",
       "      <td>92298.0</td>\n",
       "      <td>2.0</td>\n",
       "      <td>27.0</td>\n",
       "      <td>0.0</td>\n",
       "      <td>0.00</td>\n",
       "      <td>0.00</td>\n",
       "      <td>0.0</td>\n",
       "      <td>0.0</td>\n",
       "      <td>0.0</td>\n",
       "      <td>0.0</td>\n",
       "      <td>...</td>\n",
       "      <td>0.0</td>\n",
       "      <td>0.0</td>\n",
       "      <td>0.0</td>\n",
       "      <td>0.0</td>\n",
       "      <td>0.0</td>\n",
       "      <td>0.0</td>\n",
       "      <td>0.0</td>\n",
       "      <td>0.0</td>\n",
       "      <td>0.0</td>\n",
       "      <td>432550.68</td>\n",
       "    </tr>\n",
       "    <tr>\n",
       "      <th>2</th>\n",
       "      <td>71681.0</td>\n",
       "      <td>2.0</td>\n",
       "      <td>23.0</td>\n",
       "      <td>0.0</td>\n",
       "      <td>0.00</td>\n",
       "      <td>0.00</td>\n",
       "      <td>0.0</td>\n",
       "      <td>0.0</td>\n",
       "      <td>0.0</td>\n",
       "      <td>0.0</td>\n",
       "      <td>...</td>\n",
       "      <td>0.0</td>\n",
       "      <td>0.0</td>\n",
       "      <td>0.0</td>\n",
       "      <td>0.0</td>\n",
       "      <td>0.0</td>\n",
       "      <td>0.0</td>\n",
       "      <td>0.0</td>\n",
       "      <td>0.0</td>\n",
       "      <td>0.0</td>\n",
       "      <td>177491.25</td>\n",
       "    </tr>\n",
       "    <tr>\n",
       "      <th>3</th>\n",
       "      <td>138622.0</td>\n",
       "      <td>2.0</td>\n",
       "      <td>24.0</td>\n",
       "      <td>0.0</td>\n",
       "      <td>0.00</td>\n",
       "      <td>0.00</td>\n",
       "      <td>0.0</td>\n",
       "      <td>0.0</td>\n",
       "      <td>0.0</td>\n",
       "      <td>0.0</td>\n",
       "      <td>...</td>\n",
       "      <td>0.0</td>\n",
       "      <td>0.0</td>\n",
       "      <td>0.0</td>\n",
       "      <td>0.0</td>\n",
       "      <td>0.0</td>\n",
       "      <td>0.0</td>\n",
       "      <td>0.0</td>\n",
       "      <td>0.0</td>\n",
       "      <td>0.0</td>\n",
       "      <td>129806.46</td>\n",
       "    </tr>\n",
       "    <tr>\n",
       "      <th>4</th>\n",
       "      <td>136469.0</td>\n",
       "      <td>2.0</td>\n",
       "      <td>37.0</td>\n",
       "      <td>0.0</td>\n",
       "      <td>2962.89</td>\n",
       "      <td>3141.27</td>\n",
       "      <td>0.0</td>\n",
       "      <td>0.0</td>\n",
       "      <td>0.0</td>\n",
       "      <td>0.0</td>\n",
       "      <td>...</td>\n",
       "      <td>0.0</td>\n",
       "      <td>0.0</td>\n",
       "      <td>0.0</td>\n",
       "      <td>0.0</td>\n",
       "      <td>0.0</td>\n",
       "      <td>0.0</td>\n",
       "      <td>0.0</td>\n",
       "      <td>0.0</td>\n",
       "      <td>0.0</td>\n",
       "      <td>105168.81</td>\n",
       "    </tr>\n",
       "  </tbody>\n",
       "</table>\n",
       "<p>5 rows × 258 columns</p>\n",
       "</div>"
      ],
      "text/plain": [
       "         ID  var3  var15  imp_ent_var16_ult1  imp_op_var39_comer_ult1  \\\n",
       "0   63565.0   2.0   25.0                 0.0                     0.00   \n",
       "1   92298.0   2.0   27.0                 0.0                     0.00   \n",
       "2   71681.0   2.0   23.0                 0.0                     0.00   \n",
       "3  138622.0   2.0   24.0                 0.0                     0.00   \n",
       "4  136469.0   2.0   37.0                 0.0                  2962.89   \n",
       "\n",
       "   imp_op_var39_comer_ult3  imp_op_var40_comer_ult1  imp_op_var40_comer_ult3  \\\n",
       "0                     0.00                      0.0                      0.0   \n",
       "1                     0.00                      0.0                      0.0   \n",
       "2                     0.00                      0.0                      0.0   \n",
       "3                     0.00                      0.0                      0.0   \n",
       "4                  3141.27                      0.0                      0.0   \n",
       "\n",
       "   imp_op_var40_efect_ult1  imp_op_var40_efect_ult3    ...      \\\n",
       "0                      0.0                      0.0    ...       \n",
       "1                      0.0                      0.0    ...       \n",
       "2                      0.0                      0.0    ...       \n",
       "3                      0.0                      0.0    ...       \n",
       "4                      0.0                      0.0    ...       \n",
       "\n",
       "   saldo_medio_var29_ult3  saldo_medio_var33_hace2  saldo_medio_var33_hace3  \\\n",
       "0                     0.0                      0.0                      0.0   \n",
       "1                     0.0                      0.0                      0.0   \n",
       "2                     0.0                      0.0                      0.0   \n",
       "3                     0.0                      0.0                      0.0   \n",
       "4                     0.0                      0.0                      0.0   \n",
       "\n",
       "   saldo_medio_var33_ult1  saldo_medio_var33_ult3  saldo_medio_var44_hace2  \\\n",
       "0                     0.0                     0.0                      0.0   \n",
       "1                     0.0                     0.0                      0.0   \n",
       "2                     0.0                     0.0                      0.0   \n",
       "3                     0.0                     0.0                      0.0   \n",
       "4                     0.0                     0.0                      0.0   \n",
       "\n",
       "   saldo_medio_var44_hace3  saldo_medio_var44_ult1  saldo_medio_var44_ult3  \\\n",
       "0                      0.0                     0.0                     0.0   \n",
       "1                      0.0                     0.0                     0.0   \n",
       "2                      0.0                     0.0                     0.0   \n",
       "3                      0.0                     0.0                     0.0   \n",
       "4                      0.0                     0.0                     0.0   \n",
       "\n",
       "       var38  \n",
       "0   95818.20  \n",
       "1  432550.68  \n",
       "2  177491.25  \n",
       "3  129806.46  \n",
       "4  105168.81  \n",
       "\n",
       "[5 rows x 258 columns]"
      ]
     },
     "execution_count": 27,
     "metadata": {},
     "output_type": "execute_result"
    }
   ],
   "source": [
    "x_train.head()"
   ]
  },
  {
   "cell_type": "code",
   "execution_count": 28,
   "metadata": {},
   "outputs": [
    {
     "data": {
      "text/plain": [
       "(258, 258)"
      ]
     },
     "execution_count": 28,
     "metadata": {},
     "output_type": "execute_result"
    }
   ],
   "source": [
    "corrmat.shape"
   ]
  },
  {
   "cell_type": "code",
   "execution_count": 29,
   "metadata": {},
   "outputs": [
    {
     "data": {
      "text/html": [
       "<div>\n",
       "<style scoped>\n",
       "    .dataframe tbody tr th:only-of-type {\n",
       "        vertical-align: middle;\n",
       "    }\n",
       "\n",
       "    .dataframe tbody tr th {\n",
       "        vertical-align: top;\n",
       "    }\n",
       "\n",
       "    .dataframe thead th {\n",
       "        text-align: right;\n",
       "    }\n",
       "</style>\n",
       "<table border=\"1\" class=\"dataframe\">\n",
       "  <thead>\n",
       "    <tr style=\"text-align: right;\">\n",
       "      <th></th>\n",
       "      <th>ID</th>\n",
       "      <th>var3</th>\n",
       "      <th>var15</th>\n",
       "      <th>imp_ent_var16_ult1</th>\n",
       "      <th>imp_op_var39_comer_ult1</th>\n",
       "      <th>imp_op_var39_comer_ult3</th>\n",
       "      <th>imp_op_var40_comer_ult1</th>\n",
       "      <th>imp_op_var40_comer_ult3</th>\n",
       "      <th>imp_op_var40_efect_ult1</th>\n",
       "      <th>imp_op_var40_efect_ult3</th>\n",
       "      <th>...</th>\n",
       "      <th>saldo_medio_var29_ult3</th>\n",
       "      <th>saldo_medio_var33_hace2</th>\n",
       "      <th>saldo_medio_var33_hace3</th>\n",
       "      <th>saldo_medio_var33_ult1</th>\n",
       "      <th>saldo_medio_var33_ult3</th>\n",
       "      <th>saldo_medio_var44_hace2</th>\n",
       "      <th>saldo_medio_var44_hace3</th>\n",
       "      <th>saldo_medio_var44_ult1</th>\n",
       "      <th>saldo_medio_var44_ult3</th>\n",
       "      <th>var38</th>\n",
       "    </tr>\n",
       "  </thead>\n",
       "  <tbody>\n",
       "    <tr>\n",
       "      <th>ID</th>\n",
       "      <td>1.000000</td>\n",
       "      <td>-0.003121</td>\n",
       "      <td>-0.001984</td>\n",
       "      <td>-0.001028</td>\n",
       "      <td>-0.000655</td>\n",
       "      <td>-0.001481</td>\n",
       "      <td>-0.005807</td>\n",
       "      <td>-0.005095</td>\n",
       "      <td>-0.006760</td>\n",
       "      <td>-0.005983</td>\n",
       "      <td>...</td>\n",
       "      <td>-0.007380</td>\n",
       "      <td>0.002444</td>\n",
       "      <td>0.000281</td>\n",
       "      <td>0.000205</td>\n",
       "      <td>0.000003</td>\n",
       "      <td>-0.002113</td>\n",
       "      <td>-0.008468</td>\n",
       "      <td>0.000658</td>\n",
       "      <td>0.001951</td>\n",
       "      <td>-0.005203</td>\n",
       "    </tr>\n",
       "    <tr>\n",
       "      <th>var3</th>\n",
       "      <td>-0.003121</td>\n",
       "      <td>1.000000</td>\n",
       "      <td>-0.001313</td>\n",
       "      <td>0.001637</td>\n",
       "      <td>0.004484</td>\n",
       "      <td>0.005638</td>\n",
       "      <td>0.001449</td>\n",
       "      <td>0.001618</td>\n",
       "      <td>0.000526</td>\n",
       "      <td>0.000617</td>\n",
       "      <td>...</td>\n",
       "      <td>0.000216</td>\n",
       "      <td>0.000710</td>\n",
       "      <td>0.000486</td>\n",
       "      <td>0.000696</td>\n",
       "      <td>0.000728</td>\n",
       "      <td>0.000526</td>\n",
       "      <td>0.000515</td>\n",
       "      <td>0.000649</td>\n",
       "      <td>0.000740</td>\n",
       "      <td>-0.000148</td>\n",
       "    </tr>\n",
       "    <tr>\n",
       "      <th>var15</th>\n",
       "      <td>-0.001984</td>\n",
       "      <td>-0.001313</td>\n",
       "      <td>1.000000</td>\n",
       "      <td>0.043001</td>\n",
       "      <td>0.095488</td>\n",
       "      <td>0.101421</td>\n",
       "      <td>0.045278</td>\n",
       "      <td>0.051805</td>\n",
       "      <td>0.008020</td>\n",
       "      <td>0.009445</td>\n",
       "      <td>...</td>\n",
       "      <td>0.012754</td>\n",
       "      <td>0.030038</td>\n",
       "      <td>0.018999</td>\n",
       "      <td>0.030034</td>\n",
       "      <td>0.030850</td>\n",
       "      <td>0.023671</td>\n",
       "      <td>0.022500</td>\n",
       "      <td>0.026934</td>\n",
       "      <td>0.031081</td>\n",
       "      <td>0.013213</td>\n",
       "    </tr>\n",
       "    <tr>\n",
       "      <th>imp_ent_var16_ult1</th>\n",
       "      <td>-0.001028</td>\n",
       "      <td>0.001637</td>\n",
       "      <td>0.043001</td>\n",
       "      <td>1.000000</td>\n",
       "      <td>0.040729</td>\n",
       "      <td>0.033930</td>\n",
       "      <td>0.007915</td>\n",
       "      <td>0.008499</td>\n",
       "      <td>-0.000306</td>\n",
       "      <td>0.000541</td>\n",
       "      <td>...</td>\n",
       "      <td>0.009535</td>\n",
       "      <td>-0.000832</td>\n",
       "      <td>-0.000644</td>\n",
       "      <td>-0.000643</td>\n",
       "      <td>-0.000710</td>\n",
       "      <td>-0.000649</td>\n",
       "      <td>-0.000586</td>\n",
       "      <td>0.003461</td>\n",
       "      <td>0.005803</td>\n",
       "      <td>0.000799</td>\n",
       "    </tr>\n",
       "    <tr>\n",
       "      <th>imp_op_var39_comer_ult1</th>\n",
       "      <td>-0.000655</td>\n",
       "      <td>0.004484</td>\n",
       "      <td>0.095488</td>\n",
       "      <td>0.040729</td>\n",
       "      <td>1.000000</td>\n",
       "      <td>0.892665</td>\n",
       "      <td>0.324838</td>\n",
       "      <td>0.282410</td>\n",
       "      <td>0.025278</td>\n",
       "      <td>0.049840</td>\n",
       "      <td>...</td>\n",
       "      <td>0.001861</td>\n",
       "      <td>0.011210</td>\n",
       "      <td>0.006729</td>\n",
       "      <td>0.011183</td>\n",
       "      <td>0.012853</td>\n",
       "      <td>0.002121</td>\n",
       "      <td>0.003954</td>\n",
       "      <td>0.007580</td>\n",
       "      <td>0.010286</td>\n",
       "      <td>0.016815</td>\n",
       "    </tr>\n",
       "  </tbody>\n",
       "</table>\n",
       "<p>5 rows × 258 columns</p>\n",
       "</div>"
      ],
      "text/plain": [
       "                               ID      var3     var15  imp_ent_var16_ult1  \\\n",
       "ID                       1.000000 -0.003121 -0.001984           -0.001028   \n",
       "var3                    -0.003121  1.000000 -0.001313            0.001637   \n",
       "var15                   -0.001984 -0.001313  1.000000            0.043001   \n",
       "imp_ent_var16_ult1      -0.001028  0.001637  0.043001            1.000000   \n",
       "imp_op_var39_comer_ult1 -0.000655  0.004484  0.095488            0.040729   \n",
       "\n",
       "                         imp_op_var39_comer_ult1  imp_op_var39_comer_ult3  \\\n",
       "ID                                     -0.000655                -0.001481   \n",
       "var3                                    0.004484                 0.005638   \n",
       "var15                                   0.095488                 0.101421   \n",
       "imp_ent_var16_ult1                      0.040729                 0.033930   \n",
       "imp_op_var39_comer_ult1                 1.000000                 0.892665   \n",
       "\n",
       "                         imp_op_var40_comer_ult1  imp_op_var40_comer_ult3  \\\n",
       "ID                                     -0.005807                -0.005095   \n",
       "var3                                    0.001449                 0.001618   \n",
       "var15                                   0.045278                 0.051805   \n",
       "imp_ent_var16_ult1                      0.007915                 0.008499   \n",
       "imp_op_var39_comer_ult1                 0.324838                 0.282410   \n",
       "\n",
       "                         imp_op_var40_efect_ult1  imp_op_var40_efect_ult3  \\\n",
       "ID                                     -0.006760                -0.005983   \n",
       "var3                                    0.000526                 0.000617   \n",
       "var15                                   0.008020                 0.009445   \n",
       "imp_ent_var16_ult1                     -0.000306                 0.000541   \n",
       "imp_op_var39_comer_ult1                 0.025278                 0.049840   \n",
       "\n",
       "                           ...     saldo_medio_var29_ult3  \\\n",
       "ID                         ...                  -0.007380   \n",
       "var3                       ...                   0.000216   \n",
       "var15                      ...                   0.012754   \n",
       "imp_ent_var16_ult1         ...                   0.009535   \n",
       "imp_op_var39_comer_ult1    ...                   0.001861   \n",
       "\n",
       "                         saldo_medio_var33_hace2  saldo_medio_var33_hace3  \\\n",
       "ID                                      0.002444                 0.000281   \n",
       "var3                                    0.000710                 0.000486   \n",
       "var15                                   0.030038                 0.018999   \n",
       "imp_ent_var16_ult1                     -0.000832                -0.000644   \n",
       "imp_op_var39_comer_ult1                 0.011210                 0.006729   \n",
       "\n",
       "                         saldo_medio_var33_ult1  saldo_medio_var33_ult3  \\\n",
       "ID                                     0.000205                0.000003   \n",
       "var3                                   0.000696                0.000728   \n",
       "var15                                  0.030034                0.030850   \n",
       "imp_ent_var16_ult1                    -0.000643               -0.000710   \n",
       "imp_op_var39_comer_ult1                0.011183                0.012853   \n",
       "\n",
       "                         saldo_medio_var44_hace2  saldo_medio_var44_hace3  \\\n",
       "ID                                     -0.002113                -0.008468   \n",
       "var3                                    0.000526                 0.000515   \n",
       "var15                                   0.023671                 0.022500   \n",
       "imp_ent_var16_ult1                     -0.000649                -0.000586   \n",
       "imp_op_var39_comer_ult1                 0.002121                 0.003954   \n",
       "\n",
       "                         saldo_medio_var44_ult1  saldo_medio_var44_ult3  \\\n",
       "ID                                     0.000658                0.001951   \n",
       "var3                                   0.000649                0.000740   \n",
       "var15                                  0.026934                0.031081   \n",
       "imp_ent_var16_ult1                     0.003461                0.005803   \n",
       "imp_op_var39_comer_ult1                0.007580                0.010286   \n",
       "\n",
       "                            var38  \n",
       "ID                      -0.005203  \n",
       "var3                    -0.000148  \n",
       "var15                    0.013213  \n",
       "imp_ent_var16_ult1       0.000799  \n",
       "imp_op_var39_comer_ult1  0.016815  \n",
       "\n",
       "[5 rows x 258 columns]"
      ]
     },
     "execution_count": 29,
     "metadata": {},
     "output_type": "execute_result"
    }
   ],
   "source": [
    "corrmat.head()"
   ]
  },
  {
   "cell_type": "code",
   "execution_count": 30,
   "metadata": {},
   "outputs": [
    {
     "data": {
      "text/html": [
       "<div>\n",
       "<style scoped>\n",
       "    .dataframe tbody tr th:only-of-type {\n",
       "        vertical-align: middle;\n",
       "    }\n",
       "\n",
       "    .dataframe tbody tr th {\n",
       "        vertical-align: top;\n",
       "    }\n",
       "\n",
       "    .dataframe thead th {\n",
       "        text-align: right;\n",
       "    }\n",
       "</style>\n",
       "<table border=\"1\" class=\"dataframe\">\n",
       "  <thead>\n",
       "    <tr style=\"text-align: right;\">\n",
       "      <th></th>\n",
       "      <th>feature1</th>\n",
       "      <th>feature2</th>\n",
       "      <th>coor</th>\n",
       "    </tr>\n",
       "  </thead>\n",
       "  <tbody>\n",
       "    <tr>\n",
       "      <th>0</th>\n",
       "      <td>delta_num_aport_var33_1y3</td>\n",
       "      <td>delta_imp_aport_var33_1y3</td>\n",
       "      <td>1.0</td>\n",
       "    </tr>\n",
       "    <tr>\n",
       "      <th>1</th>\n",
       "      <td>delta_imp_aport_var33_1y3</td>\n",
       "      <td>delta_num_aport_var33_1y3</td>\n",
       "      <td>1.0</td>\n",
       "    </tr>\n",
       "    <tr>\n",
       "      <th>2</th>\n",
       "      <td>delta_num_aport_var17_1y3</td>\n",
       "      <td>delta_imp_aport_var17_1y3</td>\n",
       "      <td>1.0</td>\n",
       "    </tr>\n",
       "    <tr>\n",
       "      <th>3</th>\n",
       "      <td>delta_imp_aport_var17_1y3</td>\n",
       "      <td>delta_num_aport_var17_1y3</td>\n",
       "      <td>1.0</td>\n",
       "    </tr>\n",
       "    <tr>\n",
       "      <th>4</th>\n",
       "      <td>delta_imp_compra_var44_1y3</td>\n",
       "      <td>delta_num_compra_var44_1y3</td>\n",
       "      <td>1.0</td>\n",
       "    </tr>\n",
       "  </tbody>\n",
       "</table>\n",
       "</div>"
      ],
      "text/plain": [
       "                     feature1                    feature2  coor\n",
       "0   delta_num_aport_var33_1y3   delta_imp_aport_var33_1y3   1.0\n",
       "1   delta_imp_aport_var33_1y3   delta_num_aport_var33_1y3   1.0\n",
       "2   delta_num_aport_var17_1y3   delta_imp_aport_var17_1y3   1.0\n",
       "3   delta_imp_aport_var17_1y3   delta_num_aport_var17_1y3   1.0\n",
       "4  delta_imp_compra_var44_1y3  delta_num_compra_var44_1y3   1.0"
      ]
     },
     "execution_count": 30,
     "metadata": {},
     "output_type": "execute_result"
    }
   ],
   "source": [
    "corrmat =  corrmat.abs().unstack() # -0.8 0.8\n",
    "corrmat = corrmat.sort_values(ascending = False)\n",
    "corrmat = corrmat[(corrmat < 1) & (corrmat > 0.8)]\n",
    "corrmat = pd.DataFrame(corrmat).reset_index()\n",
    "corrmat.columns = ['feature1', 'feature2', 'coor']\n",
    "corrmat.head()"
   ]
  },
  {
   "cell_type": "code",
   "execution_count": 31,
   "metadata": {},
   "outputs": [
    {
     "data": {
      "text/plain": [
       "(694, 3)"
      ]
     },
     "execution_count": 31,
     "metadata": {},
     "output_type": "execute_result"
    }
   ],
   "source": [
    "corrmat.shape"
   ]
  },
  {
   "cell_type": "code",
   "execution_count": null,
   "metadata": {},
   "outputs": [],
   "source": []
  },
  {
   "cell_type": "code",
   "execution_count": null,
   "metadata": {},
   "outputs": [],
   "source": []
  }
 ],
 "metadata": {
  "kernelspec": {
   "display_name": "Python 3",
   "language": "python",
   "name": "python3"
  },
  "language_info": {
   "codemirror_mode": {
    "name": "ipython",
    "version": 3
   },
   "file_extension": ".py",
   "mimetype": "text/x-python",
   "name": "python",
   "nbconvert_exporter": "python",
   "pygments_lexer": "ipython3",
   "version": "3.7.1"
  }
 },
 "nbformat": 4,
 "nbformat_minor": 2
}
