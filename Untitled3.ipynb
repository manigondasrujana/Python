{
 "cells": [
  {
   "cell_type": "code",
   "execution_count": 15,
   "metadata": {},
   "outputs": [],
   "source": [
    "import pyodbc\n",
    "import pandas as pd\n",
    "from pandas import DataFrame"
   ]
  },
  {
   "cell_type": "code",
   "execution_count": 65,
   "metadata": {},
   "outputs": [],
   "source": [
    "conn=pyodbc.connect('DRIVER={SQL Server};SERVER=SRUJANA\\SQLEXPRESS;Database=DB_SOURCE;Trusted_Connection=yes;')\n",
    "cursor=conn.cursor()\n"
   ]
  },
  {
   "cell_type": "code",
   "execution_count": 40,
   "metadata": {},
   "outputs": [
    {
     "name": "stdout",
     "output_type": "stream",
     "text": [
      "row=(1, 'Adam', 'm', 'china')\n",
      "row=(2, 'Luke', 'm', 'china')\n",
      "row=(3, 'VINK', 'm', 'india')\n",
      "row=(4, 'JEN', 'm', 'INDIA')\n",
      "row=(5, 'JOHY', 'm', 'INDIA')\n",
      "row=(6, 'JEFF', 'm', 'India')\n",
      "row=(7, 'Femina', 'm', 'India')\n",
      "row=(8, 'Sheetal', 'm', 'INDIA')\n",
      "row=(9, 'John M', 'f', 'INDIA')\n",
      "row=(10, 'Sheetal2', 'm', 'INDIA')\n",
      "row=(11, 'RAMESH', 'f', 'China')\n",
      "row=(12, 'SRUJANA', 'F', 'INDIA')\n"
     ]
    }
   ],
   "source": [
    "cursor.execute(\"SELECT * FROM dbo.EmployeeDetails\")\n",
    "for row in cursor:\n",
    "    print('row=%r'%(row,))\n",
    "    "
   ]
  },
  {
   "cell_type": "code",
   "execution_count": 37,
   "metadata": {},
   "outputs": [],
   "source": [
    "cursor.execute(\"SET datefirst 2;SELECT DISTINCT Total_Sales,Total_Quantity_Sold,Total_Profit,Week_Number,Store_id,cat_name from(SELECT SUM(SALES) AS Total_Sales,SUM(UNITS) AS Total_Quantity_Sold,SUM(SALES)-SUM(COGS) as Total_Profit, DATEPART(WEEK,TIME_STAMP) AS Week_Number FROM Order_Detail A, Product_Detail B where A.PRODUCT = B.PRODUCT GROUP BY DATEPART(WEEK,TIME_STAMP)) A, Order_Detail X, Product_Detail Y WHERE X.product=y.product ORDER BY Week_Number\")\n",
    "field_names = [i[0] for i in cursor.description]\n",
    "get_data = [xx for xx in cursor]\n",
    "\n"
   ]
  },
  {
   "cell_type": "code",
   "execution_count": 38,
   "metadata": {},
   "outputs": [],
   "source": [
    "df=DataFrame(get_data)"
   ]
  },
  {
   "cell_type": "code",
   "execution_count": 49,
   "metadata": {},
   "outputs": [
    {
     "name": "stdout",
     "output_type": "stream",
     "text": [
      "(Decimal('132.98'), 4, Decimal('56.98'), 36, 1, 'WidgetC')\n",
      "(Decimal('132.98'), 4, Decimal('56.98'), 36, 1, 'WidgetE')\n",
      "(Decimal('132.98'), 4, Decimal('56.98'), 36, 2, 'WidgetA')\n",
      "(Decimal('132.98'), 4, Decimal('56.98'), 36, 2, 'WidgetD')\n",
      "(Decimal('132.98'), 4, Decimal('56.98'), 36, 3, 'WidgetA')\n",
      "(Decimal('132.98'), 4, Decimal('56.98'), 36, 3, 'WidgetB')\n",
      "(Decimal('58.96'), 19, Decimal('18.98'), 37, 1, 'WidgetC')\n",
      "(Decimal('58.96'), 19, Decimal('18.98'), 37, 1, 'WidgetE')\n",
      "(Decimal('58.96'), 19, Decimal('18.98'), 37, 2, 'WidgetA')\n",
      "(Decimal('58.96'), 19, Decimal('18.98'), 37, 2, 'WidgetD')\n",
      "(Decimal('58.96'), 19, Decimal('18.98'), 37, 3, 'WidgetA')\n",
      "(Decimal('58.96'), 19, Decimal('18.98'), 37, 3, 'WidgetB')\n",
      "(Decimal('199.99'), 1, Decimal('124.99'), 40, 1, 'WidgetC')\n",
      "(Decimal('199.99'), 1, Decimal('124.99'), 40, 1, 'WidgetE')\n",
      "(Decimal('199.99'), 1, Decimal('124.99'), 40, 2, 'WidgetA')\n",
      "(Decimal('199.99'), 1, Decimal('124.99'), 40, 2, 'WidgetD')\n",
      "(Decimal('199.99'), 1, Decimal('124.99'), 40, 3, 'WidgetA')\n",
      "(Decimal('199.99'), 1, Decimal('124.99'), 40, 3, 'WidgetB')\n"
     ]
    }
   ],
   "source": [
    "df={}\n",
    "cursor.execute(\"SET datefirst 2;SELECT DISTINCT Total_Sales,Total_Quantity_Sold,Total_Profit,Week_Number,Store_id,cat_name from(SELECT SUM(SALES) AS Total_Sales,SUM(UNITS) AS Total_Quantity_Sold,SUM(SALES)-SUM(COGS) as Total_Profit, DATEPART(WEEK,TIME_STAMP) AS Week_Number FROM Order_Detail A, Product_Detail B where A.PRODUCT = B.PRODUCT GROUP BY DATEPART(WEEK,TIME_STAMP)) A, Order_Detail X, Product_Detail Y WHERE X.product=y.product ORDER BY Week_Number\")\n",
    "for row in cursor:\n",
    "    print(row)\n",
    "\n"
   ]
  },
  {
   "cell_type": "code",
   "execution_count": null,
   "metadata": {},
   "outputs": [],
   "source": []
  },
  {
   "cell_type": "code",
   "execution_count": 63,
   "metadata": {},
   "outputs": [
    {
     "data": {
      "text/plain": [
       "1"
      ]
     },
     "execution_count": 63,
     "metadata": {},
     "output_type": "execute_result"
    }
   ],
   "source": [
    "len(sql_data.columns)"
   ]
  },
  {
   "cell_type": "code",
   "execution_count": 71,
   "metadata": {},
   "outputs": [
    {
     "name": "stdout",
     "output_type": "stream",
     "text": [
      "                                    0\n",
      "0  [132.98, 4, 56.98, 36, 1, WidgetC]\n",
      "1  [132.98, 4, 56.98, 36, 1, WidgetE]\n",
      "2  [132.98, 4, 56.98, 36, 2, WidgetA]\n",
      "3  [132.98, 4, 56.98, 36, 2, WidgetD]\n",
      "4  [132.98, 4, 56.98, 36, 3, WidgetA]\n"
     ]
    }
   ],
   "source": [
    "cursor=conn.cursor()\n",
    "cursor.execute(\"SET datefirst 2;SELECT DISTINCT Total_Sales,Total_Quantity_Sold,Total_Profit,Week_Number,Store_id,cat_name from(SELECT SUM(SALES) AS Total_Sales,SUM(UNITS) AS Total_Quantity_Sold,SUM(SALES)-SUM(COGS) as Total_Profit, DATEPART(WEEK,TIME_STAMP) AS Week_Number FROM Order_Detail A, Product_Detail B where A.PRODUCT = B.PRODUCT GROUP BY DATEPART(WEEK,TIME_STAMP)) A, Order_Detail X, Product_Detail Y WHERE X.product=y.product ORDER BY Week_Number\")\n",
    "sql_data = pd.DataFrame(cursor.fetchall())\n",
    "#sql_data.columns = cursor.column_names\n",
    "\n",
    "\n",
    "\n",
    "\n",
    "# Show the data\n",
    "print(sql_data.head())"
   ]
  },
  {
   "cell_type": "code",
   "execution_count": 86,
   "metadata": {},
   "outputs": [
    {
     "data": {
      "text/plain": [
       "['Total_Sales',\n",
       " 'Total_Quantity_Sold',\n",
       " 'Total_Profit',\n",
       " 'Week_Number',\n",
       " 'Store_id',\n",
       " 'cat_name']"
      ]
     },
     "execution_count": 86,
     "metadata": {},
     "output_type": "execute_result"
    }
   ],
   "source": [
    "field_names=[i[0] for i in cursor.description]\n",
    "field_names\n"
   ]
  },
  {
   "cell_type": "code",
   "execution_count": 88,
   "metadata": {},
   "outputs": [
    {
     "ename": "TypeError",
     "evalue": "unhashable type: 'list'",
     "output_type": "error",
     "traceback": [
      "\u001b[1;31m---------------------------------------------------------------------------\u001b[0m",
      "\u001b[1;31mTypeError\u001b[0m                                 Traceback (most recent call last)",
      "\u001b[1;32m<ipython-input-88-35e5a6f53553>\u001b[0m in \u001b[0;36m<module>\u001b[1;34m\u001b[0m\n\u001b[0;32m      1\u001b[0m \u001b[0mfoo\u001b[0m \u001b[1;33m=\u001b[0m \u001b[1;32mlambda\u001b[0m \u001b[0mx\u001b[0m\u001b[1;33m:\u001b[0m \u001b[0mpd\u001b[0m\u001b[1;33m.\u001b[0m\u001b[0mSeries\u001b[0m\u001b[1;33m(\u001b[0m\u001b[1;33m[\u001b[0m\u001b[0mi\u001b[0m \u001b[1;32mfor\u001b[0m \u001b[0mi\u001b[0m \u001b[1;32min\u001b[0m \u001b[0msql_data\u001b[0m\u001b[1;33m(\u001b[0m\u001b[0mx\u001b[0m\u001b[1;33m.\u001b[0m\u001b[0msplit\u001b[0m\u001b[1;33m(\u001b[0m\u001b[1;34m','\u001b[0m\u001b[1;33m)\u001b[0m\u001b[1;33m)\u001b[0m\u001b[1;33m]\u001b[0m\u001b[1;33m)\u001b[0m\u001b[1;33m\u001b[0m\u001b[1;33m\u001b[0m\u001b[0m\n\u001b[1;32m----> 2\u001b[1;33m \u001b[0mrev\u001b[0m \u001b[1;33m=\u001b[0m \u001b[0mdf\u001b[0m\u001b[1;33m[\u001b[0m\u001b[0mfield_names\u001b[0m\u001b[1;33m]\u001b[0m\u001b[1;33m.\u001b[0m\u001b[0mapply\u001b[0m\u001b[1;33m(\u001b[0m\u001b[0mfoo\u001b[0m\u001b[1;33m)\u001b[0m\u001b[1;33m\u001b[0m\u001b[1;33m\u001b[0m\u001b[0m\n\u001b[0m",
      "\u001b[1;31mTypeError\u001b[0m: unhashable type: 'list'"
     ]
    }
   ],
   "source": [
    "foo = lambda x: pd.Series([i for i in sql_data(x.split(','))])\n"
   ]
  },
  {
   "cell_type": "code",
   "execution_count": 93,
   "metadata": {},
   "outputs": [
    {
     "data": {
      "text/plain": [
       "pandas.core.frame.DataFrame"
      ]
     },
     "execution_count": 93,
     "metadata": {},
     "output_type": "execute_result"
    }
   ],
   "source": [
    "type(sql_data)"
   ]
  },
  {
   "cell_type": "code",
   "execution_count": null,
   "metadata": {},
   "outputs": [],
   "source": []
  }
 ],
 "metadata": {
  "kernelspec": {
   "display_name": "Python 3",
   "language": "python",
   "name": "python3"
  },
  "language_info": {
   "codemirror_mode": {
    "name": "ipython",
    "version": 3
   },
   "file_extension": ".py",
   "mimetype": "text/x-python",
   "name": "python",
   "nbconvert_exporter": "python",
   "pygments_lexer": "ipython3",
   "version": "3.7.1"
  }
 },
 "nbformat": 4,
 "nbformat_minor": 2
}
