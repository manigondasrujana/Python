{
 "cells": [
  {
   "cell_type": "code",
   "execution_count": 2,
   "metadata": {},
   "outputs": [],
   "source": [
    "import pandas\n",
    "import sqlite3"
   ]
  },
  {
   "cell_type": "code",
   "execution_count": 5,
   "metadata": {},
   "outputs": [
    {
     "data": {
      "text/plain": [
       "['Collecting ipython-sql',\n",
       " '  Downloading https://files.pythonhosted.org/packages/ab/df/427e7cf05ffc67e78672ad57dce2436c1e825129033effe6fcaf804d0c60/ipython_sql-0.3.9-py2.py3-none-any.whl',\n",
       " 'Requirement already satisfied: six in c:\\\\users\\\\rameshsrujana\\\\anaconda3\\\\lib\\\\site-packages (from ipython-sql) (1.12.0)',\n",
       " 'Collecting prettytable (from ipython-sql)',\n",
       " '  Downloading https://files.pythonhosted.org/packages/ef/30/4b0746848746ed5941f052479e7c23d2b56d174b82f4fd34a25e389831f5/prettytable-0.7.2.tar.bz2',\n",
       " 'Requirement already satisfied: sqlalchemy>=0.6.7 in c:\\\\users\\\\rameshsrujana\\\\anaconda3\\\\lib\\\\site-packages (from ipython-sql) (1.2.15)',\n",
       " 'Requirement already satisfied: ipython-genutils>=0.1.0 in c:\\\\users\\\\rameshsrujana\\\\anaconda3\\\\lib\\\\site-packages (from ipython-sql) (0.2.0)',\n",
       " 'Requirement already satisfied: ipython>=1.0 in c:\\\\users\\\\rameshsrujana\\\\anaconda3\\\\lib\\\\site-packages (from ipython-sql) (7.2.0)',\n",
       " 'Collecting sqlparse (from ipython-sql)',\n",
       " '  Downloading https://files.pythonhosted.org/packages/65/85/20bdd72f4537cf2c4d5d005368d502b2f464ede22982e724a82c86268eda/sqlparse-0.2.4-py2.py3-none-any.whl',\n",
       " 'Requirement already satisfied: decorator in c:\\\\users\\\\rameshsrujana\\\\anaconda3\\\\lib\\\\site-packages (from ipython>=1.0->ipython-sql) (4.3.0)',\n",
       " 'Requirement already satisfied: prompt-toolkit<2.1.0,>=2.0.0 in c:\\\\users\\\\rameshsrujana\\\\anaconda3\\\\lib\\\\site-packages (from ipython>=1.0->ipython-sql) (2.0.7)',\n",
       " 'Requirement already satisfied: pickleshare in c:\\\\users\\\\rameshsrujana\\\\anaconda3\\\\lib\\\\site-packages (from ipython>=1.0->ipython-sql) (0.7.5)',\n",
       " 'Requirement already satisfied: traitlets>=4.2 in c:\\\\users\\\\rameshsrujana\\\\anaconda3\\\\lib\\\\site-packages (from ipython>=1.0->ipython-sql) (4.3.2)',\n",
       " 'Requirement already satisfied: pygments in c:\\\\users\\\\rameshsrujana\\\\anaconda3\\\\lib\\\\site-packages (from ipython>=1.0->ipython-sql) (2.3.1)',\n",
       " 'Requirement already satisfied: colorama; sys_platform == \"win32\" in c:\\\\users\\\\rameshsrujana\\\\anaconda3\\\\lib\\\\site-packages (from ipython>=1.0->ipython-sql) (0.4.1)',\n",
       " 'Requirement already satisfied: jedi>=0.10 in c:\\\\users\\\\rameshsrujana\\\\anaconda3\\\\lib\\\\site-packages (from ipython>=1.0->ipython-sql) (0.13.2)',\n",
       " 'Requirement already satisfied: setuptools>=18.5 in c:\\\\users\\\\rameshsrujana\\\\anaconda3\\\\lib\\\\site-packages (from ipython>=1.0->ipython-sql) (40.6.3)',\n",
       " 'Requirement already satisfied: backcall in c:\\\\users\\\\rameshsrujana\\\\anaconda3\\\\lib\\\\site-packages (from ipython>=1.0->ipython-sql) (0.1.0)',\n",
       " 'Requirement already satisfied: wcwidth in c:\\\\users\\\\rameshsrujana\\\\anaconda3\\\\lib\\\\site-packages (from prompt-toolkit<2.1.0,>=2.0.0->ipython>=1.0->ipython-sql) (0.1.7)',\n",
       " 'Requirement already satisfied: parso>=0.3.0 in c:\\\\users\\\\rameshsrujana\\\\anaconda3\\\\lib\\\\site-packages (from jedi>=0.10->ipython>=1.0->ipython-sql) (0.3.1)',\n",
       " 'Building wheels for collected packages: prettytable',\n",
       " '  Running setup.py bdist_wheel for prettytable: started',\n",
       " \"  Running setup.py bdist_wheel for prettytable: finished with status 'done'\",\n",
       " '  Stored in directory: C:\\\\Users\\\\rameshsrujana\\\\AppData\\\\Local\\\\pip\\\\Cache\\\\wheels\\\\80\\\\34\\\\1c\\\\3967380d9676d162cb59513bd9dc862d0584e045a162095606',\n",
       " 'Successfully built prettytable',\n",
       " 'Installing collected packages: prettytable, sqlparse, ipython-sql',\n",
       " 'Successfully installed ipython-sql-0.3.9 prettytable-0.7.2 sqlparse-0.2.4']"
      ]
     },
     "execution_count": 5,
     "metadata": {},
     "output_type": "execute_result"
    }
   ],
   "source": [
    "%%!\n",
    "pip install --trusted-host pypi.org ipython-sql"
   ]
  },
  {
   "cell_type": "code",
   "execution_count": 6,
   "metadata": {},
   "outputs": [],
   "source": [
    "%load_ext sql"
   ]
  },
  {
   "cell_type": "code",
   "execution_count": 7,
   "metadata": {},
   "outputs": [
    {
     "data": {
      "text/plain": [
       "'Connected: @None'"
      ]
     },
     "execution_count": 7,
     "metadata": {},
     "output_type": "execute_result"
    }
   ],
   "source": [
    "%sql sqlite://"
   ]
  },
  {
   "cell_type": "code",
   "execution_count": 8,
   "metadata": {},
   "outputs": [
    {
     "name": "stdout",
     "output_type": "stream",
     "text": [
      " * sqlite://\n",
      "Done.\n"
     ]
    },
    {
     "data": {
      "text/plain": [
       "[]"
      ]
     },
     "execution_count": 8,
     "metadata": {},
     "output_type": "execute_result"
    }
   ],
   "source": [
    "%%sql\n",
    "CREATE TABLE Order_Detail (\n",
    "    invoice_id INTEGER NOT NULL,\n",
    "    invoice_line INTEGER NOT NULL,\n",
    "    store_id INTEGER NOT NULL,\n",
    "    time_stamp DATE NOT NULL,\n",
    "    product VARCHAR(8) NOT NULL,\n",
    "    units INTEGER NOT NULL,\n",
    "    sales NUMERIC(7 , 2 ) NOT NULL,\n",
    "    cogs NUMERIC(5 , 2 ) NOT NULL\n",
    ");"
   ]
  },
  {
   "cell_type": "code",
   "execution_count": 12,
   "metadata": {},
   "outputs": [
    {
     "name": "stdout",
     "output_type": "stream",
     "text": [
      " * sqlite://\n",
      "1 rows affected.\n",
      "1 rows affected.\n",
      "1 rows affected.\n",
      "1 rows affected.\n",
      "1 rows affected.\n",
      "1 rows affected.\n",
      "1 rows affected.\n"
     ]
    },
    {
     "data": {
      "text/plain": [
       "[]"
      ]
     },
     "execution_count": 12,
     "metadata": {},
     "output_type": "execute_result"
    }
   ],
   "source": [
    "%%sql\n",
    "INSERT INTO Order_Detail(invoice_id,invoice_line,store_id,time_stamp,product,units,sales,cogs) VALUES (10000001,31215,3,'2017/09/03','3000',1,99.99,58.00);\n",
    "INSERT INTO Order_Detail(invoice_id,invoice_line,store_id,time_stamp,product,units,sales,cogs) VALUES (10000001,31216,3,'2017/09/03','3354H',3,32.99,18.00);\n",
    "INSERT INTO Order_Detail(invoice_id,invoice_line,store_id,time_stamp,product,units,sales,cogs) VALUES (10000002,91455,1,'2017/09/05','1234',2,24.99,20.00);\n",
    "INSERT INTO Order_Detail(invoice_id,invoice_line,store_id,time_stamp,product,units,sales,cogs) VALUES (10000003,59943,2,'2017/09/05','3000',1,19.99,14.99);\n",
    "INSERT INTO Order_Detail(invoice_id,invoice_line,store_id,time_stamp,product,units,sales,cogs) VALUES (10000004,95027,2,'2017/09/05','18518',1,9.99,3.00);\n",
    "INSERT INTO Order_Detail(invoice_id,invoice_line,store_id,time_stamp,product,units,sales,cogs) VALUES (10000005,73994,2,'2017/09/10','12HA12',15,3.99,1.99);\n",
    "INSERT INTO Order_Detail(invoice_id,invoice_line,store_id,time_stamp,product,units,sales,cogs) VALUES (10000006,98464,1,'2017/10/01','wh30000',1,199.99,75.00);\n",
    "\n"
   ]
  },
  {
   "cell_type": "code",
   "execution_count": 14,
   "metadata": {},
   "outputs": [
    {
     "name": "stdout",
     "output_type": "stream",
     "text": [
      " * sqlite://\n",
      "Done.\n"
     ]
    },
    {
     "data": {
      "text/html": [
       "<table>\n",
       "    <tr>\n",
       "        <th>invoice_id</th>\n",
       "        <th>invoice_line</th>\n",
       "        <th>store_id</th>\n",
       "        <th>time_stamp</th>\n",
       "        <th>product</th>\n",
       "        <th>units</th>\n",
       "        <th>sales</th>\n",
       "        <th>cogs</th>\n",
       "    </tr>\n",
       "    <tr>\n",
       "        <td>10000001</td>\n",
       "        <td>31215</td>\n",
       "        <td>3</td>\n",
       "        <td>2017/09/03</td>\n",
       "        <td>3000</td>\n",
       "        <td>1</td>\n",
       "        <td>99.99</td>\n",
       "        <td>58</td>\n",
       "    </tr>\n",
       "    <tr>\n",
       "        <td>10000001</td>\n",
       "        <td>31216</td>\n",
       "        <td>3</td>\n",
       "        <td>2017/09/03</td>\n",
       "        <td>3354H</td>\n",
       "        <td>3</td>\n",
       "        <td>32.99</td>\n",
       "        <td>18</td>\n",
       "    </tr>\n",
       "    <tr>\n",
       "        <td>10000002</td>\n",
       "        <td>91455</td>\n",
       "        <td>1</td>\n",
       "        <td>2017/09/05</td>\n",
       "        <td>1234</td>\n",
       "        <td>2</td>\n",
       "        <td>24.99</td>\n",
       "        <td>20</td>\n",
       "    </tr>\n",
       "    <tr>\n",
       "        <td>10000003</td>\n",
       "        <td>59943</td>\n",
       "        <td>2</td>\n",
       "        <td>2017/09/05</td>\n",
       "        <td>3000</td>\n",
       "        <td>1</td>\n",
       "        <td>19.99</td>\n",
       "        <td>14.99</td>\n",
       "    </tr>\n",
       "    <tr>\n",
       "        <td>10000004</td>\n",
       "        <td>95027</td>\n",
       "        <td>2</td>\n",
       "        <td>2017/09/05</td>\n",
       "        <td>18518</td>\n",
       "        <td>1</td>\n",
       "        <td>9.99</td>\n",
       "        <td>3</td>\n",
       "    </tr>\n",
       "    <tr>\n",
       "        <td>10000005</td>\n",
       "        <td>73994</td>\n",
       "        <td>2</td>\n",
       "        <td>2017/09/10</td>\n",
       "        <td>12HA12</td>\n",
       "        <td>15</td>\n",
       "        <td>3.99</td>\n",
       "        <td>1.99</td>\n",
       "    </tr>\n",
       "    <tr>\n",
       "        <td>10000006</td>\n",
       "        <td>98464</td>\n",
       "        <td>1</td>\n",
       "        <td>2017/10/01</td>\n",
       "        <td>wh30000</td>\n",
       "        <td>1</td>\n",
       "        <td>199.99</td>\n",
       "        <td>75</td>\n",
       "    </tr>\n",
       "</table>"
      ],
      "text/plain": [
       "[(10000001, 31215, 3, '2017/09/03', '3000', 1, 99.99, 58),\n",
       " (10000001, 31216, 3, '2017/09/03', '3354H', 3, 32.99, 18),\n",
       " (10000002, 91455, 1, '2017/09/05', '1234', 2, 24.99, 20),\n",
       " (10000003, 59943, 2, '2017/09/05', '3000', 1, 19.99, 14.99),\n",
       " (10000004, 95027, 2, '2017/09/05', '18518', 1, 9.99, 3),\n",
       " (10000005, 73994, 2, '2017/09/10', '12HA12', 15, 3.99, 1.99),\n",
       " (10000006, 98464, 1, '2017/10/01', 'wh30000', 1, 199.99, 75)]"
      ]
     },
     "execution_count": 14,
     "metadata": {},
     "output_type": "execute_result"
    }
   ],
   "source": [
    "%%sql\n",
    "select * from Order_Detail"
   ]
  },
  {
   "cell_type": "code",
   "execution_count": 15,
   "metadata": {
    "scrolled": true
   },
   "outputs": [
    {
     "name": "stdout",
     "output_type": "stream",
     "text": [
      " * sqlite://\n",
      "Done.\n",
      "1 rows affected.\n",
      "1 rows affected.\n",
      "1 rows affected.\n",
      "1 rows affected.\n",
      "1 rows affected.\n",
      "1 rows affected.\n",
      "Done.\n"
     ]
    },
    {
     "data": {
      "text/html": [
       "<table>\n",
       "    <tr>\n",
       "        <th>product</th>\n",
       "        <th>cat_name</th>\n",
       "        <th>key_interal</th>\n",
       "    </tr>\n",
       "    <tr>\n",
       "        <td>3000</td>\n",
       "        <td>WidgetA</td>\n",
       "        <td>17375273</td>\n",
       "    </tr>\n",
       "    <tr>\n",
       "        <td>3354H</td>\n",
       "        <td>WidgetB</td>\n",
       "        <td>15477787</td>\n",
       "    </tr>\n",
       "    <tr>\n",
       "        <td>1234</td>\n",
       "        <td>WidgetC</td>\n",
       "        <td>97845235</td>\n",
       "    </tr>\n",
       "    <tr>\n",
       "        <td>18518</td>\n",
       "        <td>WidgetD</td>\n",
       "        <td>47813334</td>\n",
       "    </tr>\n",
       "    <tr>\n",
       "        <td>12HA12</td>\n",
       "        <td>WidgetD</td>\n",
       "        <td>48573988</td>\n",
       "    </tr>\n",
       "    <tr>\n",
       "        <td>wh30000</td>\n",
       "        <td>WidgetE</td>\n",
       "        <td>00000000</td>\n",
       "    </tr>\n",
       "</table>"
      ],
      "text/plain": [
       "[('3000', 'WidgetA', '17375273'),\n",
       " ('3354H', 'WidgetB', '15477787'),\n",
       " ('1234', 'WidgetC', '97845235'),\n",
       " ('18518', 'WidgetD', '47813334'),\n",
       " ('12HA12', 'WidgetD', '48573988'),\n",
       " ('wh30000', 'WidgetE', '00000000')]"
      ]
     },
     "execution_count": 15,
     "metadata": {},
     "output_type": "execute_result"
    }
   ],
   "source": [
    "%%sql\n",
    "CREATE TABLE Product_Detail (\n",
    "    product VARCHAR(8) NOT NULL,\n",
    "    cat_name VARCHAR(8) NOT NULL,\n",
    "    key_interal VARCHAR(8) NOT NULL\n",
    ");\n",
    "\n",
    "INSERT INTO Product_Detail(product,cat_name,key_interal) VALUES ('3000','WidgetA','17375273');\n",
    "INSERT INTO Product_Detail(product,cat_name,key_interal) VALUES ('3354H','WidgetB','15477787');\n",
    "INSERT INTO Product_Detail(product,cat_name,key_interal) VALUES ('1234','WidgetC','97845235');\n",
    "INSERT INTO Product_Detail(product,cat_name,key_interal) VALUES ('18518','WidgetD','47813334');\n",
    "INSERT INTO Product_Detail(product,cat_name,key_interal) VALUES ('12HA12','WidgetD','48573988');\n",
    "INSERT INTO Product_Detail(product,cat_name,key_interal) VALUES ('wh30000','WidgetE','00000000');\n",
    "\n",
    "select * from Product_Detail"
   ]
  },
  {
   "cell_type": "code",
   "execution_count": 46,
   "metadata": {},
   "outputs": [
    {
     "name": "stdout",
     "output_type": "stream",
     "text": [
      " * sqlite://\n",
      "(sqlite3.OperationalError) near \"(\": syntax error [SQL: 'SELECT SUM(SALES) AS Total_Sales,SUM(UNITS) AS Total_Quantity_Sold,SUM(SALES)-SUM(COGS) as Total_Profit, \\n datetime.date(TIME_STAMP).strftime(\"%V\") AS Week_Number\\nFROM Order_Detail A, Product_Detail B where A.PRODUCT = B.PRODUCT datetime.date(TIME_STAMP).strf(\"%V\")\\nLIMIT 20'] (Background on this error at: http://sqlalche.me/e/e3q8)\n"
     ]
    }
   ],
   "source": [
    "%%sql\n",
    "SELECT SUM(SALES) AS Total_Sales,SUM(UNITS) AS Total_Quantity_Sold,SUM(SALES)-SUM(COGS) as Total_Profit, \n",
    " datetime.date(TIME_STAMP).strftime(\"%V\") AS Week_Number\n",
    "FROM Order_Detail A, Product_Detail B where A.PRODUCT = B.PRODUCT datetime.date(TIME_STAMP).strf(\"%V\")\n",
    "LIMIT 20\n"
   ]
  },
  {
   "cell_type": "code",
   "execution_count": 47,
   "metadata": {},
   "outputs": [
    {
     "name": "stdout",
     "output_type": "stream",
     "text": [
      " * sqlite://\n",
      "Done.\n"
     ]
    },
    {
     "data": {
      "text/html": [
       "<table>\n",
       "    <tr>\n",
       "        <th>sum(sales)</th>\n",
       "    </tr>\n",
       "    <tr>\n",
       "        <td>391.93000000000006</td>\n",
       "    </tr>\n",
       "</table>"
      ],
      "text/plain": [
       "[(391.93000000000006,)]"
      ]
     },
     "execution_count": 47,
     "metadata": {},
     "output_type": "execute_result"
    }
   ],
   "source": [
    "%%sql\n",
    "select sum(sales) from Order_Detail"
   ]
  },
  {
   "cell_type": "code",
   "execution_count": 27,
   "metadata": {},
   "outputs": [
    {
     "name": "stdout",
     "output_type": "stream",
     "text": [
      " * sqlite://\n",
      "Done.\n"
     ]
    },
    {
     "data": {
      "text/html": [
       "<table>\n",
       "    <tr>\n",
       "        <th>Total_Sales</th>\n",
       "        <th>Total_Quantity_Sold</th>\n",
       "        <th>Total_Profit</th>\n",
       "    </tr>\n",
       "    <tr>\n",
       "        <td>3.99</td>\n",
       "        <td>15</td>\n",
       "        <td>2.0</td>\n",
       "    </tr>\n",
       "    <tr>\n",
       "        <td>9.99</td>\n",
       "        <td>1</td>\n",
       "        <td>6.99</td>\n",
       "    </tr>\n",
       "    <tr>\n",
       "        <td>19.99</td>\n",
       "        <td>1</td>\n",
       "        <td>4.999999999999998</td>\n",
       "    </tr>\n",
       "    <tr>\n",
       "        <td>24.99</td>\n",
       "        <td>2</td>\n",
       "        <td>4.989999999999998</td>\n",
       "    </tr>\n",
       "    <tr>\n",
       "        <td>32.99</td>\n",
       "        <td>3</td>\n",
       "        <td>14.990000000000002</td>\n",
       "    </tr>\n",
       "    <tr>\n",
       "        <td>99.99</td>\n",
       "        <td>1</td>\n",
       "        <td>41.989999999999995</td>\n",
       "    </tr>\n",
       "    <tr>\n",
       "        <td>199.99</td>\n",
       "        <td>1</td>\n",
       "        <td>124.99000000000001</td>\n",
       "    </tr>\n",
       "</table>"
      ],
      "text/plain": [
       "[(3.99, 15, 2.0),\n",
       " (9.99, 1, 6.99),\n",
       " (19.99, 1, 4.999999999999998),\n",
       " (24.99, 2, 4.989999999999998),\n",
       " (32.99, 3, 14.990000000000002),\n",
       " (99.99, 1, 41.989999999999995),\n",
       " (199.99, 1, 124.99000000000001)]"
      ]
     },
     "execution_count": 27,
     "metadata": {},
     "output_type": "execute_result"
    }
   ],
   "source": [
    "%%sql\n",
    "SELECT SUM(SALES) AS Total_Sales,SUM(UNITS) AS Total_Quantity_Sold,SUM(SALES)-SUM(COGS) as Total_Profit \n",
    "FROM Order_Detail A, Product_Detail B where A.PRODUCT = B.PRODUCT group by sales"
   ]
  },
  {
   "cell_type": "code",
   "execution_count": 51,
   "metadata": {},
   "outputs": [],
   "source": [
    "import sqlite3\n",
    "connection=sqlite3.connect(\"srujana.db\")\n"
   ]
  },
  {
   "cell_type": "code",
   "execution_count": 29,
   "metadata": {},
   "outputs": [],
   "source": [
    "crsr=connection.cursor()"
   ]
  },
  {
   "cell_type": "code",
   "execution_count": 30,
   "metadata": {},
   "outputs": [],
   "source": [
    "sql_command=\"\"\"CREATE TABLE emp (  \n",
    "staff_number INTEGER PRIMARY KEY,  \n",
    "fname VARCHAR(20),  \n",
    "lname VARCHAR(30),  \n",
    "gender CHAR(1),  \n",
    "joining DATE);\"\"\""
   ]
  },
  {
   "cell_type": "code",
   "execution_count": 31,
   "metadata": {},
   "outputs": [
    {
     "data": {
      "text/plain": [
       "<sqlite3.Cursor at 0x55c0847c00>"
      ]
     },
     "execution_count": 31,
     "metadata": {},
     "output_type": "execute_result"
    }
   ],
   "source": [
    "crsr.execute(sql_command)"
   ]
  },
  {
   "cell_type": "code",
   "execution_count": 32,
   "metadata": {},
   "outputs": [
    {
     "data": {
      "text/plain": [
       "<sqlite3.Cursor at 0x55c0847c00>"
      ]
     },
     "execution_count": 32,
     "metadata": {},
     "output_type": "execute_result"
    }
   ],
   "source": [
    "sql_command = \"\"\"INSERT INTO emp VALUES (23, \"Rishabh\", \"Bansal\", \"M\", \"2014-03-28\");\"\"\"\n",
    "crsr.execute(sql_command) "
   ]
  },
  {
   "cell_type": "code",
   "execution_count": 33,
   "metadata": {},
   "outputs": [
    {
     "data": {
      "text/plain": [
       "<sqlite3.Cursor at 0x55c0847c00>"
      ]
     },
     "execution_count": 33,
     "metadata": {},
     "output_type": "execute_result"
    }
   ],
   "source": [
    "sql_command = \"\"\"INSERT INTO emp VALUES (1, \"Bill\", \"Gates\", \"M\", \"1980-10-28\");\"\"\"\n",
    "crsr.execute(sql_command) "
   ]
  },
  {
   "cell_type": "code",
   "execution_count": 34,
   "metadata": {},
   "outputs": [],
   "source": [
    "connection.commit()"
   ]
  },
  {
   "cell_type": "code",
   "execution_count": 49,
   "metadata": {},
   "outputs": [
    {
     "name": "stdout",
     "output_type": "stream",
     "text": [
      "fetchall:\n"
     ]
    }
   ],
   "source": [
    "sql_command=\"\"\"select * from emp;\"\"\"\n",
    "print(\"fetchall:\")"
   ]
  },
  {
   "cell_type": "code",
   "execution_count": 40,
   "metadata": {},
   "outputs": [
    {
     "data": {
      "text/plain": [
       "<sqlite3.Cursor at 0x55c0847c00>"
      ]
     },
     "execution_count": 40,
     "metadata": {},
     "output_type": "execute_result"
    }
   ],
   "source": [
    "crsr.execute(sql_command)"
   ]
  },
  {
   "cell_type": "code",
   "execution_count": null,
   "metadata": {},
   "outputs": [],
   "source": []
  },
  {
   "cell_type": "code",
   "execution_count": null,
   "metadata": {},
   "outputs": [],
   "source": []
  }
 ],
 "metadata": {
  "kernelspec": {
   "display_name": "Python 3",
   "language": "python",
   "name": "python3"
  },
  "language_info": {
   "codemirror_mode": {
    "name": "ipython",
    "version": 3
   },
   "file_extension": ".py",
   "mimetype": "text/x-python",
   "name": "python",
   "nbconvert_exporter": "python",
   "pygments_lexer": "ipython3",
   "version": "3.7.1"
  }
 },
 "nbformat": 4,
 "nbformat_minor": 2
}
