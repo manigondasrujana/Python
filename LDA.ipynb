{
 "cells": [
  {
   "cell_type": "code",
   "execution_count": 1,
   "metadata": {},
   "outputs": [],
   "source": [
    "import numpy as np\n",
    "import pandas as pd\n",
    "import matplotlib.pyplot as plt"
   ]
  },
  {
   "cell_type": "code",
   "execution_count": 2,
   "metadata": {},
   "outputs": [],
   "source": [
    "dataset=pd.read_csv(r'D:\\udemy\\Wine.csv')"
   ]
  },
  {
   "cell_type": "code",
   "execution_count": 3,
   "metadata": {},
   "outputs": [],
   "source": [
    "x=dataset.iloc[:,0:13].values\n",
    "y=dataset.iloc[:,13].values"
   ]
  },
  {
   "cell_type": "code",
   "execution_count": 4,
   "metadata": {},
   "outputs": [
    {
     "data": {
      "text/html": [
       "<div>\n",
       "<style scoped>\n",
       "    .dataframe tbody tr th:only-of-type {\n",
       "        vertical-align: middle;\n",
       "    }\n",
       "\n",
       "    .dataframe tbody tr th {\n",
       "        vertical-align: top;\n",
       "    }\n",
       "\n",
       "    .dataframe thead th {\n",
       "        text-align: right;\n",
       "    }\n",
       "</style>\n",
       "<table border=\"1\" class=\"dataframe\">\n",
       "  <thead>\n",
       "    <tr style=\"text-align: right;\">\n",
       "      <th></th>\n",
       "      <th>Alcohol</th>\n",
       "      <th>Malic_Acid</th>\n",
       "      <th>Ash</th>\n",
       "      <th>Ash_Alcanity</th>\n",
       "      <th>Magnesium</th>\n",
       "      <th>Total_Phenols</th>\n",
       "      <th>Flavanoids</th>\n",
       "      <th>Nonflavanoid_Phenols</th>\n",
       "      <th>Proanthocyanins</th>\n",
       "      <th>Color_Intensity</th>\n",
       "      <th>Hue</th>\n",
       "      <th>OD280</th>\n",
       "      <th>Proline</th>\n",
       "      <th>Customer_Segment</th>\n",
       "    </tr>\n",
       "  </thead>\n",
       "  <tbody>\n",
       "    <tr>\n",
       "      <th>0</th>\n",
       "      <td>14.23</td>\n",
       "      <td>1.71</td>\n",
       "      <td>2.43</td>\n",
       "      <td>15.6</td>\n",
       "      <td>127</td>\n",
       "      <td>2.80</td>\n",
       "      <td>3.06</td>\n",
       "      <td>0.28</td>\n",
       "      <td>2.29</td>\n",
       "      <td>5.64</td>\n",
       "      <td>1.04</td>\n",
       "      <td>3.92</td>\n",
       "      <td>1065</td>\n",
       "      <td>1</td>\n",
       "    </tr>\n",
       "    <tr>\n",
       "      <th>1</th>\n",
       "      <td>13.20</td>\n",
       "      <td>1.78</td>\n",
       "      <td>2.14</td>\n",
       "      <td>11.2</td>\n",
       "      <td>100</td>\n",
       "      <td>2.65</td>\n",
       "      <td>2.76</td>\n",
       "      <td>0.26</td>\n",
       "      <td>1.28</td>\n",
       "      <td>4.38</td>\n",
       "      <td>1.05</td>\n",
       "      <td>3.40</td>\n",
       "      <td>1050</td>\n",
       "      <td>1</td>\n",
       "    </tr>\n",
       "  </tbody>\n",
       "</table>\n",
       "</div>"
      ],
      "text/plain": [
       "   Alcohol  Malic_Acid   Ash  Ash_Alcanity  Magnesium  Total_Phenols  \\\n",
       "0    14.23        1.71  2.43          15.6        127           2.80   \n",
       "1    13.20        1.78  2.14          11.2        100           2.65   \n",
       "\n",
       "   Flavanoids  Nonflavanoid_Phenols  Proanthocyanins  Color_Intensity   Hue  \\\n",
       "0        3.06                  0.28             2.29             5.64  1.04   \n",
       "1        2.76                  0.26             1.28             4.38  1.05   \n",
       "\n",
       "   OD280  Proline  Customer_Segment  \n",
       "0   3.92     1065                 1  \n",
       "1   3.40     1050                 1  "
      ]
     },
     "execution_count": 4,
     "metadata": {},
     "output_type": "execute_result"
    }
   ],
   "source": [
    "dataset.head(2)"
   ]
  },
  {
   "cell_type": "code",
   "execution_count": 5,
   "metadata": {},
   "outputs": [],
   "source": [
    "from sklearn.model_selection import train_test_split\n",
    "x_train,x_test,y_train,y_test=train_test_split(x,y,test_size=0.2,random_state=0)"
   ]
  },
  {
   "cell_type": "code",
   "execution_count": 6,
   "metadata": {},
   "outputs": [
    {
     "data": {
      "text/plain": [
       "array([[1.369e+01, 3.260e+00, 2.540e+00, ..., 9.600e-01, 1.820e+00,\n",
       "        6.800e+02],\n",
       "       [1.269e+01, 1.530e+00, 2.260e+00, ..., 9.600e-01, 2.060e+00,\n",
       "        4.950e+02],\n",
       "       [1.162e+01, 1.990e+00, 2.280e+00, ..., 1.160e+00, 2.960e+00,\n",
       "        3.450e+02],\n",
       "       ...,\n",
       "       [1.242e+01, 1.610e+00, 2.190e+00, ..., 1.060e+00, 2.960e+00,\n",
       "        3.450e+02],\n",
       "       [1.390e+01, 1.680e+00, 2.120e+00, ..., 9.100e-01, 3.330e+00,\n",
       "        9.850e+02],\n",
       "       [1.416e+01, 2.510e+00, 2.480e+00, ..., 6.200e-01, 1.710e+00,\n",
       "        6.600e+02]])"
      ]
     },
     "execution_count": 6,
     "metadata": {},
     "output_type": "execute_result"
    }
   ],
   "source": [
    "x_train"
   ]
  },
  {
   "cell_type": "code",
   "execution_count": 7,
   "metadata": {},
   "outputs": [],
   "source": [
    "from sklearn.preprocessing import StandardScaler\n",
    "sc=StandardScaler()\n",
    "x_train=sc.fit_transform(x_train)\n",
    "x_test=sc.transform(x_test)"
   ]
  },
  {
   "cell_type": "code",
   "execution_count": 8,
   "metadata": {},
   "outputs": [
    {
     "data": {
      "text/plain": [
       "array([[ 0.87668336,  0.79842885,  0.64412971, ...,  0.0290166 ,\n",
       "        -1.06412236, -0.2059076 ],\n",
       "       [-0.36659076, -0.7581304 , -0.39779858, ...,  0.0290166 ,\n",
       "        -0.73083231, -0.81704676],\n",
       "       [-1.69689407, -0.34424759, -0.32337513, ...,  0.90197362,\n",
       "         0.51900537, -1.31256499],\n",
       "       ...,\n",
       "       [-0.70227477, -0.68615078, -0.65828065, ...,  0.46549511,\n",
       "         0.51900537, -1.31256499],\n",
       "       [ 1.13777093, -0.62316862, -0.91876272, ..., -0.18922266,\n",
       "         1.03282752,  0.80164614],\n",
       "       [ 1.4610222 ,  0.12361993,  0.42085937, ..., -1.45501034,\n",
       "        -1.2168803 , -0.2719767 ]])"
      ]
     },
     "execution_count": 8,
     "metadata": {},
     "output_type": "execute_result"
    }
   ],
   "source": [
    "x_train"
   ]
  },
  {
   "cell_type": "code",
   "execution_count": 9,
   "metadata": {},
   "outputs": [],
   "source": [
    "#Applying LDA\n",
    "from sklearn.discriminant_analysis import LinearDiscriminantAnalysis as LDA\n",
    "lda=LDA(n_components=2)\n",
    "x_train=lda.fit_transform(x_train,y_train)\n",
    "x_test=lda.transform(x_test)\n"
   ]
  },
  {
   "cell_type": "code",
   "execution_count": 10,
   "metadata": {
    "scrolled": true
   },
   "outputs": [
    {
     "data": {
      "text/plain": [
       "array([[ 3.57315552,  1.94018924],\n",
       "       [ 0.85475898, -2.08182977],\n",
       "       [ 0.62173655, -3.06234453],\n",
       "       [ 4.80786412,  2.00638739],\n",
       "       [-3.8579759 ,  0.14987256],\n",
       "       [-3.59455458,  1.24961706],\n",
       "       [-0.53772906, -3.0852704 ],\n",
       "       [ 0.04058577, -2.47312446],\n",
       "       [ 0.99835348, -3.36989668],\n",
       "       [-3.74095658,  1.94844242],\n",
       "       [ 3.76035226,  0.82126218],\n",
       "       [-0.15106412, -1.86820292],\n",
       "       [ 3.62762899,  2.05460026],\n",
       "       [-3.94229781,  2.80328429],\n",
       "       [ 3.33429017,  0.73627798],\n",
       "       [ 3.90206871,  1.03276135],\n",
       "       [-3.55835472,  0.18783108],\n",
       "       [ 5.63175281,  2.40524214],\n",
       "       [-5.56217254,  0.85694946],\n",
       "       [ 0.23296188, -3.94615581],\n",
       "       [ 5.03141997,  3.23313754],\n",
       "       [ 3.52861651,  0.94605778],\n",
       "       [-1.17815662, -2.17294825],\n",
       "       [ 3.58320131,  0.67947364],\n",
       "       [ 5.21649905,  2.41090952],\n",
       "       [-3.01647841,  1.24411621],\n",
       "       [ 1.86178658, -0.47484926],\n",
       "       [ 3.93816398, -0.2204059 ],\n",
       "       [-1.0836235 , -3.32496762],\n",
       "       [ 1.8691488 , -0.63362283],\n",
       "       [ 3.27717205,  1.51263542],\n",
       "       [-0.47842302, -1.16766723],\n",
       "       [-4.14433134,  1.37391708],\n",
       "       [ 2.45009727, -2.49336285],\n",
       "       [-1.20844631, -2.30679956],\n",
       "       [ 2.55631466, -0.98550214],\n",
       "       [-1.6091476 ,  0.55066705],\n",
       "       [-5.52462148,  2.19178828],\n",
       "       [-2.44685583, -2.28937848],\n",
       "       [-1.95474568, -2.02963924],\n",
       "       [ 5.54394234,  1.5236766 ],\n",
       "       [ 5.74409562,  1.85156779],\n",
       "       [ 1.13553056, -3.93865462],\n",
       "       [-1.2483554 , -3.08106324],\n",
       "       [-0.00961488, -3.62708415],\n",
       "       [ 5.21418108,  2.66981962],\n",
       "       [ 4.2290474 ,  0.3886969 ],\n",
       "       [-3.94237521,  0.76214343],\n",
       "       [ 5.30822458,  2.18894363],\n",
       "       [-0.20862902, -3.05785486],\n",
       "       [ 0.47295413, -2.560251  ],\n",
       "       [ 0.46692465, -1.86886738],\n",
       "       [-1.05818513, -2.61576658],\n",
       "       [ 0.33551985, -3.26643922],\n",
       "       [-4.74777848,  2.23081211],\n",
       "       [-2.80968166,  1.32816126],\n",
       "       [-1.02804047, -2.60107642],\n",
       "       [-6.15432728,  2.12945198],\n",
       "       [ 4.33944259,  1.23494233],\n",
       "       [-3.63172128,  0.54074799],\n",
       "       [ 4.79575236,  1.25996976],\n",
       "       [-4.13914056,  0.36020476],\n",
       "       [-3.94468876,  3.0153646 ],\n",
       "       [-0.42472714, -2.30200526],\n",
       "       [-5.17777666,  2.36899585],\n",
       "       [-1.3044572 , -2.87041347],\n",
       "       [ 0.06991014, -2.78082083],\n",
       "       [-4.98245326,  3.83183665],\n",
       "       [ 4.3064623 ,  2.4129711 ],\n",
       "       [ 0.29208614, -2.06937039],\n",
       "       [-5.0934408 ,  3.0899463 ],\n",
       "       [ 0.61101399,  0.17866792],\n",
       "       [ 1.12081287, -2.87291369],\n",
       "       [-0.77339273, -2.03777551],\n",
       "       [ 2.57603424,  0.08537633],\n",
       "       [-4.29104423,  2.28661799],\n",
       "       [ 5.255722  ,  0.61832811],\n",
       "       [ 5.7318737 ,  0.19267558],\n",
       "       [-6.24884704,  3.55128212],\n",
       "       [-5.38587866,  1.77559442],\n",
       "       [ 1.31025756, -2.52845345],\n",
       "       [ 5.00526015,  2.31115606],\n",
       "       [-4.31499585,  1.99154644],\n",
       "       [-3.92894005,  2.13127776],\n",
       "       [-0.05838671, -2.60549973],\n",
       "       [-0.42566332, -1.68426706],\n",
       "       [-3.5253992 ,  0.16028802],\n",
       "       [-4.42913323,  2.47869828],\n",
       "       [-2.85063973,  1.1163819 ],\n",
       "       [ 4.46460374,  3.55045935],\n",
       "       [-1.21751159, -1.31441447],\n",
       "       [-4.94290391,  1.29321013],\n",
       "       [-1.70880192, -2.10638157],\n",
       "       [ 3.42314438,  1.21989584],\n",
       "       [-5.58393165,  2.49598525],\n",
       "       [-0.71859407, -2.67293812],\n",
       "       [ 4.01611408,  0.13560479],\n",
       "       [ 4.64009352, -0.06178578],\n",
       "       [-3.85066489,  1.66509736],\n",
       "       [-3.47123425, -0.07349273],\n",
       "       [ 4.17391188,  0.51767626],\n",
       "       [-4.09941682,  3.11353194],\n",
       "       [ 4.29592104,  0.18486038],\n",
       "       [-0.15570245, -3.78905263],\n",
       "       [-3.29789207,  1.48134709],\n",
       "       [-4.0655232 ,  1.02548943],\n",
       "       [-0.63468603, -2.68007872],\n",
       "       [-4.4641561 ,  2.38128912],\n",
       "       [ 4.52246935,  1.96313747],\n",
       "       [ 0.79712615, -3.04743012],\n",
       "       [ 4.91056287,  1.22473167],\n",
       "       [-3.77150311,  0.30882908],\n",
       "       [ 3.5444653 ,  1.05962644],\n",
       "       [ 4.36398757,  1.78816415],\n",
       "       [ 4.86008035,  2.32823762],\n",
       "       [-3.46481941,  1.07890379],\n",
       "       [-1.65664035, -3.72251678],\n",
       "       [ 0.26593072, -2.87995582],\n",
       "       [-0.66345544, -2.36083579],\n",
       "       [-0.33965319, -5.76922451],\n",
       "       [ 5.14221842,  1.93740967],\n",
       "       [ 5.75746454,  2.94776345],\n",
       "       [ 0.42253477, -1.5887479 ],\n",
       "       [ 0.96267148, -1.57482982],\n",
       "       [-2.5640305 ,  0.20647539],\n",
       "       [-2.30398129, -1.49865287],\n",
       "       [ 4.91741587,  2.32620455],\n",
       "       [ 5.20879938,  2.96660159],\n",
       "       [-3.60895143,  2.468315  ],\n",
       "       [-4.58647662,  2.42583146],\n",
       "       [ 2.89493473,  1.15627605],\n",
       "       [-0.09551518, -1.90444969],\n",
       "       [ 1.30043304, -0.87538895],\n",
       "       [ 0.16805348, -3.21257614],\n",
       "       [-3.19016989,  1.66680508],\n",
       "       [-2.08858151,  0.83647089],\n",
       "       [-4.25960623,  1.54637835],\n",
       "       [ 1.68647094, -3.83427605],\n",
       "       [-0.9020576 , -2.62989337],\n",
       "       [-0.19105618, -3.66017053],\n",
       "       [-4.20632725,  0.8310719 ],\n",
       "       [ 4.52910794,  3.07839306]])"
      ]
     },
     "execution_count": 10,
     "metadata": {},
     "output_type": "execute_result"
    }
   ],
   "source": [
    "x_train"
   ]
  },
  {
   "cell_type": "code",
   "execution_count": 13,
   "metadata": {},
   "outputs": [
    {
     "name": "stderr",
     "output_type": "stream",
     "text": [
      "C:\\Users\\rameshsrujana\\Anaconda3\\lib\\site-packages\\sklearn\\linear_model\\logistic.py:433: FutureWarning: Default solver will be changed to 'lbfgs' in 0.22. Specify a solver to silence this warning.\n",
      "  FutureWarning)\n",
      "C:\\Users\\rameshsrujana\\Anaconda3\\lib\\site-packages\\sklearn\\linear_model\\logistic.py:460: FutureWarning: Default multi_class will be changed to 'auto' in 0.22. Specify the multi_class option to silence this warning.\n",
      "  \"this warning.\", FutureWarning)\n"
     ]
    },
    {
     "data": {
      "text/plain": [
       "LogisticRegression(C=1.0, class_weight=None, dual=False, fit_intercept=True,\n",
       "          intercept_scaling=1, max_iter=100, multi_class='warn',\n",
       "          n_jobs=None, penalty='l2', random_state=0, solver='warn',\n",
       "          tol=0.0001, verbose=0, warm_start=False)"
      ]
     },
     "execution_count": 13,
     "metadata": {},
     "output_type": "execute_result"
    }
   ],
   "source": [
    "#Fitting logistic regression\n",
    "from sklearn.linear_model import LogisticRegression\n",
    "classifier=LogisticRegression(random_state=0)\n",
    "classifier.fit(x_train,y_train)"
   ]
  },
  {
   "cell_type": "code",
   "execution_count": 14,
   "metadata": {},
   "outputs": [],
   "source": [
    "#predicting test result\n",
    "y_pred=classifier.predict(x_test)"
   ]
  },
  {
   "cell_type": "code",
   "execution_count": 15,
   "metadata": {},
   "outputs": [
    {
     "data": {
      "text/plain": [
       "array([1, 3, 2, 1, 2, 2, 1, 3, 2, 2, 3, 3, 1, 2, 3, 2, 1, 1, 2, 1, 2, 1,\n",
       "       1, 2, 2, 2, 2, 2, 2, 3, 1, 1, 2, 1, 1, 1], dtype=int64)"
      ]
     },
     "execution_count": 15,
     "metadata": {},
     "output_type": "execute_result"
    }
   ],
   "source": [
    "y_pred"
   ]
  },
  {
   "cell_type": "code",
   "execution_count": 16,
   "metadata": {},
   "outputs": [],
   "source": [
    "#making confusion matrix\n",
    "from sklearn.metrics import confusion_matrix\n",
    "cm=confusion_matrix(y_test,y_pred)"
   ]
  },
  {
   "cell_type": "code",
   "execution_count": 17,
   "metadata": {},
   "outputs": [
    {
     "data": {
      "text/plain": [
       "array([[14,  0,  0],\n",
       "       [ 0, 16,  0],\n",
       "       [ 0,  0,  6]], dtype=int64)"
      ]
     },
     "execution_count": 17,
     "metadata": {},
     "output_type": "execute_result"
    }
   ],
   "source": [
    "cm"
   ]
  },
  {
   "cell_type": "code",
   "execution_count": 20,
   "metadata": {},
   "outputs": [
    {
     "name": "stderr",
     "output_type": "stream",
     "text": [
      "'c' argument looks like a single numeric RGB or RGBA sequence, which should be avoided as value-mapping will have precedence in case its length matches with 'x' & 'y'.  Please use a 2-D array with a single row if you really want to specify the same RGB or RGBA value for all points.\n",
      "'c' argument looks like a single numeric RGB or RGBA sequence, which should be avoided as value-mapping will have precedence in case its length matches with 'x' & 'y'.  Please use a 2-D array with a single row if you really want to specify the same RGB or RGBA value for all points.\n",
      "'c' argument looks like a single numeric RGB or RGBA sequence, which should be avoided as value-mapping will have precedence in case its length matches with 'x' & 'y'.  Please use a 2-D array with a single row if you really want to specify the same RGB or RGBA value for all points.\n"
     ]
    },
    {
     "data": {
      "image/png": "[encoded data removed]",
      "text/plain": [
       "<Figure size 432x288 with 1 Axes>"
      ]
     },
     "metadata": {
      "needs_background": "light"
     },
     "output_type": "display_data"
    }
   ],
   "source": [
    "#visualization\n",
    "from matplotlib.colors import ListedColormap\n",
    "x_set,y_set=x_train,y_train\n",
    "x1,x2=np.meshgrid(np.arange(start=x_set[:,0].min()-1,stop=x_set[:,0].max()+1,step=0.01),\n",
    "                 np.arange(start=x_set[:,0].min()-1,stop=x_set[:,0].max()+1,step=0.01))\n",
    "plt.contourf(x1,x2,classifier.predict(np.array([x1.ravel(),x2.ravel()]).T).reshape(x1.shape),\n",
    "            alpha=0.75,cmap=ListedColormap(('red','green','blue')))\n",
    "plt.xlim(x1.min(),x1.max())\n",
    "plt.ylim(x2.min(),x2.max())\n",
    "for i ,j in enumerate(np.unique(y_set)):\n",
    "    plt.scatter(x_set[y_set==j,0],x_set[y_set==j,1],\n",
    "               c=ListedColormap(('red','green','blue'))(i),label=j)\n",
    "plt.title('LDA(training set)')\n",
    "plt.xlabel('LD1')\n",
    "plt.ylabel('LD2')\n",
    "plt.legend()\n",
    "plt.show()"
   ]
  },
  {
   "cell_type": "code",
   "execution_count": 21,
   "metadata": {},
   "outputs": [
    {
     "name": "stderr",
     "output_type": "stream",
     "text": [
      "'c' argument looks like a single numeric RGB or RGBA sequence, which should be avoided as value-mapping will have precedence in case its length matches with 'x' & 'y'.  Please use a 2-D array with a single row if you really want to specify the same RGB or RGBA value for all points.\n",
      "'c' argument looks like a single numeric RGB or RGBA sequence, which should be avoided as value-mapping will have precedence in case its length matches with 'x' & 'y'.  Please use a 2-D array with a single row if you really want to specify the same RGB or RGBA value for all points.\n",
      "'c' argument looks like a single numeric RGB or RGBA sequence, which should be avoided as value-mapping will have precedence in case its length matches with 'x' & 'y'.  Please use a 2-D array with a single row if you really want to specify the same RGB or RGBA value for all points.\n"
     ]
    },
    {
     "data": {
      "image/png": "[encoded data removed]",
      "text/plain": [
       "<Figure size 432x288 with 1 Axes>"
      ]
     },
     "metadata": {
      "needs_background": "light"
     },
     "output_type": "display_data"
    }
   ],
   "source": [
    "#visualization\n",
    "from matplotlib.colors import ListedColormap\n",
    "x_set,y_set=x_test,y_test\n",
    "x1,x2=np.meshgrid(np.arange(start=x_set[:,0].min()-1,stop=x_set[:,0].max()+1,step=0.01),\n",
    "                 np.arange(start=x_set[:,0].min()-1,stop=x_set[:,0].max()+1,step=0.01))\n",
    "plt.contourf(x1,x2,classifier.predict(np.array([x1.ravel(),x2.ravel()]).T).reshape(x1.shape),\n",
    "            alpha=0.75,cmap=ListedColormap(('red','green','blue')))\n",
    "plt.xlim(x1.min(),x1.max())\n",
    "plt.ylim(x2.min(),x2.max())\n",
    "for i ,j in enumerate(np.unique(y_set)):\n",
    "    plt.scatter(x_set[y_set==j,0],x_set[y_set==j,1],\n",
    "               c=ListedColormap(('red','green','blue'))(i),label=j)\n",
    "plt.title('LDA(test set)')\n",
    "plt.xlabel('LD1')\n",
    "plt.ylabel('LD2')\n",
    "plt.legend()\n",
    "plt.show()"
   ]
  },
  {
   "cell_type": "code",
   "execution_count": null,
   "metadata": {},
   "outputs": [],
   "source": []
  }
 ],
 "metadata": {
  "kernelspec": {
   "display_name": "Python 3",
   "language": "python",
   "name": "python3"
  },
  "language_info": {
   "codemirror_mode": {
    "name": "ipython",
    "version": 3
   },
   "file_extension": ".py",
   "mimetype": "text/x-python",
   "name": "python",
   "nbconvert_exporter": "python",
   "pygments_lexer": "ipython3",
   "version": "3.7.1"
  }
 },
 "nbformat": 4,
 "nbformat_minor": 2
}
