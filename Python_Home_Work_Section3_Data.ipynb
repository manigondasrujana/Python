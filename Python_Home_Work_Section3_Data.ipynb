{
 "cells": [
  {
   "cell_type": "code",
   "execution_count": 2,
   "metadata": {},
   "outputs": [],
   "source": [
    "#Data \n",
    "revenue = [14574.49, 7606.46, 8611.41, 9175.41, 8058.65, 8105.44, 11496.28, 9766.09, 10305.32, 14379.96, 10713.97, 15433.50]\n",
    "expenses = [12051.82, 5695.07, 12319.20, 12089.72, 8658.57, 840.20, 3285.73, 5821.12, 6976.93, 16618.61, 10054.37, 3803.96]"
   ]
  },
  {
   "cell_type": "code",
   "execution_count": 8,
   "metadata": {},
   "outputs": [],
   "source": [
    "import numpy as np\n",
    "profit=list(np.array(revenue)-np.array(expenses))"
   ]
  },
  {
   "cell_type": "code",
   "execution_count": 20,
   "metadata": {},
   "outputs": [
    {
     "data": {
      "text/plain": [
       "[2522.67,\n",
       " 1911.3900000000003,\n",
       " -3707.790000000001,\n",
       " -2914.3099999999995,\n",
       " -599.9200000000001,\n",
       " 7265.24,\n",
       " 8210.550000000001,\n",
       " 3944.9700000000003,\n",
       " 3328.3899999999994,\n",
       " -2238.6500000000015,\n",
       " 659.5999999999985,\n",
       " 11629.54]"
      ]
     },
     "execution_count": 20,
     "metadata": {},
     "output_type": "execute_result"
    }
   ],
   "source": [
    "profit=[]\n",
    "for i in range(0,len(revenue)):\n",
    "    profit.append(revenue[i]-expenses[i])\n",
    "profit"
   ]
  },
  {
   "cell_type": "code",
   "execution_count": 24,
   "metadata": {},
   "outputs": [],
   "source": [
    "profit=[round(x,0) for x in profit]"
   ]
  },
  {
   "cell_type": "code",
   "execution_count": 25,
   "metadata": {},
   "outputs": [
    {
     "data": {
      "text/plain": [
       "[2523.0,\n",
       " 1911.0,\n",
       " -3708.0,\n",
       " -2914.0,\n",
       " -600.0,\n",
       " 7265.0,\n",
       " 8211.0,\n",
       " 3945.0,\n",
       " 3328.0,\n",
       " -2239.0,\n",
       " 660.0,\n",
       " 11630.0]"
      ]
     },
     "execution_count": 25,
     "metadata": {},
     "output_type": "execute_result"
    }
   ],
   "source": [
    "profit"
   ]
  },
  {
   "cell_type": "code",
   "execution_count": 28,
   "metadata": {},
   "outputs": [],
   "source": [
    "profit_after_tax=[x*0.7 for x in profit]\n"
   ]
  },
  {
   "cell_type": "code",
   "execution_count": 31,
   "metadata": {},
   "outputs": [],
   "source": [
    "profit_after_tax=[round(x,0) for x in profit_after_tax]"
   ]
  },
  {
   "cell_type": "code",
   "execution_count": 32,
   "metadata": {},
   "outputs": [
    {
     "data": {
      "text/plain": [
       "[1766.0,\n",
       " 1338.0,\n",
       " -2596.0,\n",
       " -2040.0,\n",
       " -420.0,\n",
       " 5086.0,\n",
       " 5748.0,\n",
       " 2762.0,\n",
       " 2330.0,\n",
       " -1567.0,\n",
       " 462.0,\n",
       " 8141.0]"
      ]
     },
     "execution_count": 32,
     "metadata": {},
     "output_type": "execute_result"
    }
   ],
   "source": [
    "profit_after_tax"
   ]
  },
  {
   "cell_type": "code",
   "execution_count": 33,
   "metadata": {},
   "outputs": [
    {
     "data": {
      "text/plain": [
       "[0.12117062072154841,\n",
       " 0.1759031139321051,\n",
       " -0.30146050414508196,\n",
       " -0.22233338891668056,\n",
       " -0.052117910568147276,\n",
       " 0.6274798160247933,\n",
       " 0.499987822147686,\n",
       " 0.2828153334650817,\n",
       " 0.2260968121319862,\n",
       " -0.10897109588621944,\n",
       " 0.0431212706401082,\n",
       " 0.5274889040075161]"
      ]
     },
     "execution_count": 33,
     "metadata": {},
     "output_type": "execute_result"
    }
   ],
   "source": [
    "profit_margin=[]\n",
    "for i in range(0,len(revenue)):\n",
    "    profit_margin.append(profit_after_tax[i]/revenue[i])\n",
    "profit_margin"
   ]
  },
  {
   "cell_type": "code",
   "execution_count": 35,
   "metadata": {},
   "outputs": [],
   "source": [
    "profit_margin=[round(x,2) for x in profit_margin]"
   ]
  },
  {
   "cell_type": "code",
   "execution_count": 36,
   "metadata": {},
   "outputs": [
    {
     "data": {
      "text/plain": [
       "[0.12, 0.18, -0.3, -0.22, -0.05, 0.63, 0.5, 0.28, 0.23, -0.11, 0.04, 0.53]"
      ]
     },
     "execution_count": 36,
     "metadata": {},
     "output_type": "execute_result"
    }
   ],
   "source": [
    "profit_margin"
   ]
  },
  {
   "cell_type": "code",
   "execution_count": 42,
   "metadata": {},
   "outputs": [],
   "source": [
    "months=list(range(1,13))\n",
    "\n"
   ]
  },
  {
   "cell_type": "code",
   "execution_count": 45,
   "metadata": {},
   "outputs": [],
   "source": [
    "mean=np.mean(profit)"
   ]
  },
  {
   "cell_type": "code",
   "execution_count": 55,
   "metadata": {},
   "outputs": [],
   "source": [
    "good_months=[]\n",
    "bad_months=[]\n",
    "for i in range(0,len(profit)):\n",
    "    if profit_after_tax[i]>mean:\n",
    "        good_months.append(months[i])\n",
    "    else:\n",
    "        bad_months.append(months[i])"
   ]
  },
  {
   "cell_type": "code",
   "execution_count": 52,
   "metadata": {},
   "outputs": [
    {
     "data": {
      "text/plain": [
       "2523.0"
      ]
     },
     "execution_count": 52,
     "metadata": {},
     "output_type": "execute_result"
    }
   ],
   "source": [
    "profit[0]"
   ]
  },
  {
   "cell_type": "code",
   "execution_count": 56,
   "metadata": {},
   "outputs": [
    {
     "data": {
      "text/plain": [
       "[6, 7, 8, 12]"
      ]
     },
     "execution_count": 56,
     "metadata": {},
     "output_type": "execute_result"
    }
   ],
   "source": [
    "good_months"
   ]
  },
  {
   "cell_type": "code",
   "execution_count": 57,
   "metadata": {},
   "outputs": [
    {
     "data": {
      "text/plain": [
       "[1, 2, 3, 4, 5, 9, 10, 11]"
      ]
     },
     "execution_count": 57,
     "metadata": {},
     "output_type": "execute_result"
    }
   ],
   "source": [
    "bad_months"
   ]
  },
  {
   "cell_type": "code",
   "execution_count": 66,
   "metadata": {},
   "outputs": [],
   "source": [
    "for i in range(0,len(profit)):\n",
    "    if profit_after_tax[i]==max(profit_after_tax):\n",
    "        best_month=months[i]\n",
    "    "
   ]
  },
  {
   "cell_type": "code",
   "execution_count": 62,
   "metadata": {},
   "outputs": [],
   "source": []
  },
  {
   "cell_type": "code",
   "execution_count": 67,
   "metadata": {},
   "outputs": [
    {
     "data": {
      "text/plain": [
       "12"
      ]
     },
     "execution_count": 67,
     "metadata": {},
     "output_type": "execute_result"
    }
   ],
   "source": [
    "best_month"
   ]
  },
  {
   "cell_type": "code",
   "execution_count": 69,
   "metadata": {},
   "outputs": [
    {
     "data": {
      "text/plain": [
       "8141.0"
      ]
     },
     "execution_count": 69,
     "metadata": {},
     "output_type": "execute_result"
    }
   ],
   "source": [
    "profit_after_tax[11]"
   ]
  },
  {
   "cell_type": "code",
   "execution_count": 70,
   "metadata": {},
   "outputs": [
    {
     "data": {
      "text/plain": [
       "8141.0"
      ]
     },
     "execution_count": 70,
     "metadata": {},
     "output_type": "execute_result"
    }
   ],
   "source": [
    "max(profit_after_tax)"
   ]
  },
  {
   "cell_type": "code",
   "execution_count": 71,
   "metadata": {},
   "outputs": [],
   "source": [
    "for i in range(0,len(profit)):\n",
    "    if profit_after_tax[i]==min(profit_after_tax):\n",
    "        worst_month=months[i]\n"
   ]
  },
  {
   "cell_type": "code",
   "execution_count": 72,
   "metadata": {},
   "outputs": [
    {
     "data": {
      "text/plain": [
       "3"
      ]
     },
     "execution_count": 72,
     "metadata": {},
     "output_type": "execute_result"
    }
   ],
   "source": [
    "worst_month"
   ]
  },
  {
   "cell_type": "code",
   "execution_count": 74,
   "metadata": {},
   "outputs": [
    {
     "name": "stdout",
     "output_type": "stream",
     "text": [
      "profit is [2523.0, 1911.0, -3708.0, -2914.0, -600.0, 7265.0, 8211.0, 3945.0, 3328.0, -2239.0, 660.0, 11630.0]\n",
      "POA [1766.0, 1338.0, -2596.0, -2040.0, -420.0, 5086.0, 5748.0, 2762.0, 2330.0, -1567.0, 462.0, 8141.0]\n",
      "PM [0.12, 0.18, -0.3, -0.22, -0.05, 0.63, 0.5, 0.28, 0.23, -0.11, 0.04, 0.53]\n",
      "[6, 7, 8, 12]\n",
      "[1, 2, 3, 4, 5, 9, 10, 11]\n",
      "12\n",
      "3\n"
     ]
    }
   ],
   "source": [
    "print(\"profit is\",profit)\n",
    "print(\"POA\",profit_after_tax)\n",
    "print(\"PM\",profit_margin)\n",
    "print(good_months)\n",
    "print(bad_months)\n",
    "print(best_month)\n",
    "print(worst_month)"
   ]
  },
  {
   "cell_type": "code",
   "execution_count": null,
   "metadata": {},
   "outputs": [],
   "source": []
  }
 ],
 "metadata": {
  "kernelspec": {
   "display_name": "Python 3",
   "language": "python",
   "name": "python3"
  },
  "language_info": {
   "codemirror_mode": {
    "name": "ipython",
    "version": 3
   },
   "file_extension": ".py",
   "mimetype": "text/x-python",
   "name": "python",
   "nbconvert_exporter": "python",
   "pygments_lexer": "ipython3",
   "version": "3.7.1"
  }
 },
 "nbformat": 4,
 "nbformat_minor": 1
}
