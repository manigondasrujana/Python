{
 "cells": [
  {
   "cell_type": "code",
   "execution_count": 1,
   "metadata": {},
   "outputs": [],
   "source": [
    "import numpy as np\n",
    "import pandas as pd\n",
    "import matplotlib.pyplot as plt"
   ]
  },
  {
   "cell_type": "code",
   "execution_count": 3,
   "metadata": {},
   "outputs": [],
   "source": [
    "dataset=pd.read_csv(r'D:\\udemy\\Churn_Modelling.csv')"
   ]
  },
  {
   "cell_type": "code",
   "execution_count": 4,
   "metadata": {},
   "outputs": [
    {
     "data": {
      "text/html": [
       "<div>\n",
       "<style scoped>\n",
       "    .dataframe tbody tr th:only-of-type {\n",
       "        vertical-align: middle;\n",
       "    }\n",
       "\n",
       "    .dataframe tbody tr th {\n",
       "        vertical-align: top;\n",
       "    }\n",
       "\n",
       "    .dataframe thead th {\n",
       "        text-align: right;\n",
       "    }\n",
       "</style>\n",
       "<table border=\"1\" class=\"dataframe\">\n",
       "  <thead>\n",
       "    <tr style=\"text-align: right;\">\n",
       "      <th></th>\n",
       "      <th>RowNumber</th>\n",
       "      <th>CustomerId</th>\n",
       "      <th>Surname</th>\n",
       "      <th>CreditScore</th>\n",
       "      <th>Geography</th>\n",
       "      <th>Gender</th>\n",
       "      <th>Age</th>\n",
       "      <th>Tenure</th>\n",
       "      <th>Balance</th>\n",
       "      <th>NumOfProducts</th>\n",
       "      <th>HasCrCard</th>\n",
       "      <th>IsActiveMember</th>\n",
       "      <th>EstimatedSalary</th>\n",
       "      <th>Exited</th>\n",
       "    </tr>\n",
       "  </thead>\n",
       "  <tbody>\n",
       "    <tr>\n",
       "      <th>0</th>\n",
       "      <td>1</td>\n",
       "      <td>15634602</td>\n",
       "      <td>Hargrave</td>\n",
       "      <td>619</td>\n",
       "      <td>France</td>\n",
       "      <td>Female</td>\n",
       "      <td>42</td>\n",
       "      <td>2</td>\n",
       "      <td>0.00</td>\n",
       "      <td>1</td>\n",
       "      <td>1</td>\n",
       "      <td>1</td>\n",
       "      <td>101348.88</td>\n",
       "      <td>1</td>\n",
       "    </tr>\n",
       "    <tr>\n",
       "      <th>1</th>\n",
       "      <td>2</td>\n",
       "      <td>15647311</td>\n",
       "      <td>Hill</td>\n",
       "      <td>608</td>\n",
       "      <td>Spain</td>\n",
       "      <td>Female</td>\n",
       "      <td>41</td>\n",
       "      <td>1</td>\n",
       "      <td>83807.86</td>\n",
       "      <td>1</td>\n",
       "      <td>0</td>\n",
       "      <td>1</td>\n",
       "      <td>112542.58</td>\n",
       "      <td>0</td>\n",
       "    </tr>\n",
       "  </tbody>\n",
       "</table>\n",
       "</div>"
      ],
      "text/plain": [
       "   RowNumber  CustomerId   Surname  CreditScore Geography  Gender  Age  \\\n",
       "0          1    15634602  Hargrave          619    France  Female   42   \n",
       "1          2    15647311      Hill          608     Spain  Female   41   \n",
       "\n",
       "   Tenure   Balance  NumOfProducts  HasCrCard  IsActiveMember  \\\n",
       "0       2      0.00              1          1               1   \n",
       "1       1  83807.86              1          0               1   \n",
       "\n",
       "   EstimatedSalary  Exited  \n",
       "0        101348.88       1  \n",
       "1        112542.58       0  "
      ]
     },
     "execution_count": 4,
     "metadata": {},
     "output_type": "execute_result"
    }
   ],
   "source": [
    "dataset.head(2)"
   ]
  },
  {
   "cell_type": "code",
   "execution_count": 5,
   "metadata": {},
   "outputs": [],
   "source": [
    "x=dataset.iloc[:,3:13].values\n",
    "y=dataset.iloc[:,13].values"
   ]
  },
  {
   "cell_type": "code",
   "execution_count": 6,
   "metadata": {},
   "outputs": [
    {
     "data": {
      "text/plain": [
       "array([[619, 'France', 'Female', ..., 1, 1, 101348.88],\n",
       "       [608, 'Spain', 'Female', ..., 0, 1, 112542.58],\n",
       "       [502, 'France', 'Female', ..., 1, 0, 113931.57],\n",
       "       ...,\n",
       "       [709, 'France', 'Female', ..., 0, 1, 42085.58],\n",
       "       [772, 'Germany', 'Male', ..., 1, 0, 92888.52],\n",
       "       [792, 'France', 'Female', ..., 1, 0, 38190.78]], dtype=object)"
      ]
     },
     "execution_count": 6,
     "metadata": {},
     "output_type": "execute_result"
    }
   ],
   "source": [
    "x"
   ]
  },
  {
   "cell_type": "code",
   "execution_count": 7,
   "metadata": {},
   "outputs": [
    {
     "data": {
      "text/plain": [
       "array([1, 0, 1, ..., 1, 1, 0], dtype=int64)"
      ]
     },
     "execution_count": 7,
     "metadata": {},
     "output_type": "execute_result"
    }
   ],
   "source": [
    "y"
   ]
  },
  {
   "cell_type": "code",
   "execution_count": 10,
   "metadata": {},
   "outputs": [
    {
     "name": "stderr",
     "output_type": "stream",
     "text": [
      "C:\\Users\\rameshsrujana\\Anaconda3\\lib\\site-packages\\sklearn\\preprocessing\\_encoders.py:371: FutureWarning: The handling of integer data will change in version 0.22. Currently, the categories are determined based on the range [0, max(values)], while in the future they will be determined based on the unique values.\n",
      "If you want the future behaviour and silence this warning, you can specify \"categories='auto'\".\n",
      "In case you used a LabelEncoder before this OneHotEncoder to convert the categories to integers, then you can now use the OneHotEncoder directly.\n",
      "  warnings.warn(msg, FutureWarning)\n"
     ]
    }
   ],
   "source": [
    "#Encoding\n",
    "from sklearn.preprocessing import LabelEncoder,OneHotEncoder\n",
    "labelencoder_x_1=LabelEncoder()\n",
    "x[:,1]=labelencoder_x_1.fit_transform(x[:,1])\n",
    "labelencoder_x_2=LabelEncoder()\n",
    "x[:,2]=labelencoder_x_2.fit_transform(x[:,2])\n",
    "onehotencoder=OneHotEncoder(categorical_features=[1])\n",
    "x=onehotencoder.fit_transform(x).toarray()\n",
    "x=x[:,1:]\n",
    "\n"
   ]
  },
  {
   "cell_type": "code",
   "execution_count": 12,
   "metadata": {},
   "outputs": [],
   "source": [
    "#SPLITTING\n",
    "from sklearn.model_selection import train_test_split\n",
    "x_train,x_test,y_train,y_test=train_test_split(x,y,test_size=0.2,random_state=0)\n"
   ]
  },
  {
   "cell_type": "code",
   "execution_count": 13,
   "metadata": {},
   "outputs": [],
   "source": [
    "#Feature Scaling\n",
    "from sklearn.preprocessing import StandardScaler\n",
    "sc=StandardScaler()\n",
    "x_train=sc.fit_transform(x_train)\n",
    "x_test=sc.transform(x_test)"
   ]
  },
  {
   "cell_type": "code",
   "execution_count": 14,
   "metadata": {},
   "outputs": [],
   "source": [
    "#ANN\n",
    "import keras\n",
    "from keras.models import Sequential\n",
    "from keras.layers import Dense"
   ]
  },
  {
   "cell_type": "code",
   "execution_count": 16,
   "metadata": {},
   "outputs": [],
   "source": [
    "#initializing ANN\n",
    "classifier=Sequential()"
   ]
  },
  {
   "cell_type": "code",
   "execution_count": 17,
   "metadata": {},
   "outputs": [
    {
     "name": "stderr",
     "output_type": "stream",
     "text": [
      "C:\\Users\\rameshsrujana\\Anaconda3\\lib\\site-packages\\ipykernel_launcher.py:2: UserWarning: Update your `Dense` call to the Keras 2 API: `Dense(activation=\"relu\", input_dim=11, units=6, kernel_initializer=\"uniform\")`\n",
      "  \n"
     ]
    }
   ],
   "source": [
    "#Adding input layer and first hidden layer\n",
    "classifier.add(Dense(output_dim=6,init='uniform',activation='relu',input_dim=11))#relu=rectifier function"
   ]
  },
  {
   "cell_type": "code",
   "execution_count": 18,
   "metadata": {},
   "outputs": [
    {
     "name": "stderr",
     "output_type": "stream",
     "text": [
      "C:\\Users\\rameshsrujana\\Anaconda3\\lib\\site-packages\\ipykernel_launcher.py:2: UserWarning: Update your `Dense` call to the Keras 2 API: `Dense(activation=\"relu\", units=6, kernel_initializer=\"uniform\")`\n",
      "  \n"
     ]
    }
   ],
   "source": [
    "#adding second hidden layer\n",
    "classifier.add(Dense(output_dim=6,init='uniform',activation='relu'))"
   ]
  },
  {
   "cell_type": "code",
   "execution_count": 19,
   "metadata": {},
   "outputs": [
    {
     "name": "stderr",
     "output_type": "stream",
     "text": [
      "C:\\Users\\rameshsrujana\\Anaconda3\\lib\\site-packages\\ipykernel_launcher.py:2: UserWarning: Update your `Dense` call to the Keras 2 API: `Dense(activation=\"sigmoid\", units=1, kernel_initializer=\"uniform\")`\n",
      "  \n"
     ]
    }
   ],
   "source": [
    "#Adding the output layer\n",
    "classifier.add(Dense(output_dim=1,init='uniform',activation='sigmoid'))"
   ]
  },
  {
   "cell_type": "code",
   "execution_count": 20,
   "metadata": {},
   "outputs": [],
   "source": [
    "#compiling the ANN\n",
    "classifier.compile(optimizer='adam',loss='binary_crossentropy',metrics=['accuracy'])"
   ]
  },
  {
   "cell_type": "code",
   "execution_count": 21,
   "metadata": {},
   "outputs": [
    {
     "name": "stderr",
     "output_type": "stream",
     "text": [
      "C:\\Users\\rameshsrujana\\Anaconda3\\lib\\site-packages\\ipykernel_launcher.py:2: UserWarning: The `nb_epoch` argument in `fit` has been renamed `epochs`.\n",
      "  \n"
     ]
    },
    {
     "name": "stdout",
     "output_type": "stream",
     "text": [
      "Epoch 1/100\n",
      "8000/8000 [==============================] - 4s 562us/step - loss: 0.4930 - acc: 0.7955\n",
      "Epoch 2/100\n",
      "8000/8000 [==============================] - 1s 144us/step - loss: 0.4296 - acc: 0.7960\n",
      "Epoch 3/100\n",
      "8000/8000 [==============================] - 1s 139us/step - loss: 0.4254 - acc: 0.7960\n",
      "Epoch 4/100\n",
      "8000/8000 [==============================] - 1s 138us/step - loss: 0.4215 - acc: 0.8047\n",
      "Epoch 5/100\n",
      "8000/8000 [==============================] - 1s 138us/step - loss: 0.4184 - acc: 0.8234\n",
      "Epoch 6/100\n",
      "8000/8000 [==============================] - 1s 148us/step - loss: 0.4161 - acc: 0.8271\n",
      "Epoch 7/100\n",
      "8000/8000 [==============================] - 1s 144us/step - loss: 0.4142 - acc: 0.8285\n",
      "Epoch 8/100\n",
      "8000/8000 [==============================] - 1s 150us/step - loss: 0.4131 - acc: 0.8297\n",
      "Epoch 9/100\n",
      "8000/8000 [==============================] - 1s 152us/step - loss: 0.4117 - acc: 0.8310\n",
      "Epoch 10/100\n",
      "8000/8000 [==============================] - 1s 171us/step - loss: 0.4105 - acc: 0.8327\n",
      "Epoch 11/100\n",
      "8000/8000 [==============================] - 1s 152us/step - loss: 0.4095 - acc: 0.8326\n",
      "Epoch 12/100\n",
      "8000/8000 [==============================] - 1s 145us/step - loss: 0.4092 - acc: 0.8332\n",
      "Epoch 13/100\n",
      "8000/8000 [==============================] - 2s 203us/step - loss: 0.4084 - acc: 0.8332\n",
      "Epoch 14/100\n",
      "8000/8000 [==============================] - 1s 144us/step - loss: 0.4080 - acc: 0.8341\n",
      "Epoch 15/100\n",
      "8000/8000 [==============================] - 1s 147us/step - loss: 0.4078 - acc: 0.8325\n",
      "Epoch 16/100\n",
      "8000/8000 [==============================] - 1s 152us/step - loss: 0.4070 - acc: 0.8344\n",
      "Epoch 17/100\n",
      "8000/8000 [==============================] - 1s 144us/step - loss: 0.4064 - acc: 0.8342\n",
      "Epoch 18/100\n",
      "8000/8000 [==============================] - 1s 146us/step - loss: 0.4060 - acc: 0.8349\n",
      "Epoch 19/100\n",
      "8000/8000 [==============================] - 1s 148us/step - loss: 0.4053 - acc: 0.8347\n",
      "Epoch 20/100\n",
      "8000/8000 [==============================] - 1s 179us/step - loss: 0.4053 - acc: 0.8351\n",
      "Epoch 21/100\n",
      "8000/8000 [==============================] - 1s 154us/step - loss: 0.4051 - acc: 0.8352\n",
      "Epoch 22/100\n",
      "8000/8000 [==============================] - 1s 150us/step - loss: 0.4045 - acc: 0.8345\n",
      "Epoch 23/100\n",
      "8000/8000 [==============================] - 1s 152us/step - loss: 0.4042 - acc: 0.8340\n",
      "Epoch 24/100\n",
      "8000/8000 [==============================] - 1s 148us/step - loss: 0.4045 - acc: 0.8355\n",
      "Epoch 25/100\n",
      "8000/8000 [==============================] - 1s 153us/step - loss: 0.4040 - acc: 0.8339\n",
      "Epoch 26/100\n",
      "8000/8000 [==============================] - 2s 193us/step - loss: 0.4038 - acc: 0.8354\n",
      "Epoch 27/100\n",
      "8000/8000 [==============================] - 1s 147us/step - loss: 0.4035 - acc: 0.8350\n",
      "Epoch 28/100\n",
      "8000/8000 [==============================] - 1s 145us/step - loss: 0.4031 - acc: 0.8344\n",
      "Epoch 29/100\n",
      "8000/8000 [==============================] - 1s 146us/step - loss: 0.4029 - acc: 0.8355\n",
      "Epoch 30/100\n",
      "8000/8000 [==============================] - 1s 149us/step - loss: 0.4031 - acc: 0.8332\n",
      "Epoch 31/100\n",
      "8000/8000 [==============================] - 1s 161us/step - loss: 0.4026 - acc: 0.8346\n",
      "Epoch 32/100\n",
      "8000/8000 [==============================] - 1s 147us/step - loss: 0.4028 - acc: 0.8341\n",
      "Epoch 33/100\n",
      "8000/8000 [==============================] - 1s 147us/step - loss: 0.4026 - acc: 0.8350\n",
      "Epoch 34/100\n",
      "8000/8000 [==============================] - 1s 147us/step - loss: 0.4021 - acc: 0.8345\n",
      "Epoch 35/100\n",
      "8000/8000 [==============================] - 1s 149us/step - loss: 0.4026 - acc: 0.8345\n",
      "Epoch 36/100\n",
      "8000/8000 [==============================] - 1s 155us/step - loss: 0.4020 - acc: 0.8341\n",
      "Epoch 37/100\n",
      "8000/8000 [==============================] - 1s 150us/step - loss: 0.4021 - acc: 0.8340\n",
      "Epoch 38/100\n",
      "8000/8000 [==============================] - 1s 150us/step - loss: 0.4015 - acc: 0.8349\n",
      "Epoch 39/100\n",
      "8000/8000 [==============================] - 2s 192us/step - loss: 0.4021 - acc: 0.8336\n",
      "Epoch 40/100\n",
      "8000/8000 [==============================] - 1s 168us/step - loss: 0.4018 - acc: 0.8341\n",
      "Epoch 41/100\n",
      "8000/8000 [==============================] - 1s 153us/step - loss: 0.4015 - acc: 0.8345\n",
      "Epoch 42/100\n",
      "8000/8000 [==============================] - 1s 151us/step - loss: 0.4014 - acc: 0.8360\n",
      "Epoch 43/100\n",
      "8000/8000 [==============================] - 1s 153us/step - loss: 0.4011 - acc: 0.8352\n",
      "Epoch 44/100\n",
      "8000/8000 [==============================] - 1s 152us/step - loss: 0.4013 - acc: 0.8339\n",
      "Epoch 45/100\n",
      "8000/8000 [==============================] - 1s 158us/step - loss: 0.4006 - acc: 0.8367\n",
      "Epoch 46/100\n",
      "8000/8000 [==============================] - 1s 153us/step - loss: 0.4013 - acc: 0.8351\n",
      "Epoch 47/100\n",
      "8000/8000 [==============================] - 1s 153us/step - loss: 0.4008 - acc: 0.8345\n",
      "Epoch 48/100\n",
      "8000/8000 [==============================] - 1s 152us/step - loss: 0.4012 - acc: 0.8351\n",
      "Epoch 49/100\n",
      "8000/8000 [==============================] - 1s 154us/step - loss: 0.4006 - acc: 0.8342\n",
      "Epoch 50/100\n",
      "8000/8000 [==============================] - 1s 162us/step - loss: 0.4008 - acc: 0.8351\n",
      "Epoch 51/100\n",
      "8000/8000 [==============================] - 1s 167us/step - loss: 0.4004 - acc: 0.8350\n",
      "Epoch 52/100\n",
      "8000/8000 [==============================] - 1s 180us/step - loss: 0.4011 - acc: 0.8336\n",
      "Epoch 53/100\n",
      "8000/8000 [==============================] - 1s 155us/step - loss: 0.4009 - acc: 0.8357\n",
      "Epoch 54/100\n",
      "8000/8000 [==============================] - 1s 161us/step - loss: 0.4004 - acc: 0.8342\n",
      "Epoch 55/100\n",
      "8000/8000 [==============================] - 1s 153us/step - loss: 0.4007 - acc: 0.8354\n",
      "Epoch 56/100\n",
      "8000/8000 [==============================] - 1s 155us/step - loss: 0.4004 - acc: 0.8340\n",
      "Epoch 57/100\n",
      "8000/8000 [==============================] - 1s 159us/step - loss: 0.4005 - acc: 0.8336\n",
      "Epoch 58/100\n",
      "8000/8000 [==============================] - 1s 163us/step - loss: 0.4004 - acc: 0.8337\n",
      "Epoch 59/100\n",
      "8000/8000 [==============================] - 1s 160us/step - loss: 0.4002 - acc: 0.8352\n",
      "Epoch 60/100\n",
      "8000/8000 [==============================] - 1s 159us/step - loss: 0.4002 - acc: 0.8334\n",
      "Epoch 61/100\n",
      "8000/8000 [==============================] - 1s 161us/step - loss: 0.4001 - acc: 0.8339\n",
      "Epoch 62/100\n",
      "8000/8000 [==============================] - 1s 166us/step - loss: 0.4006 - acc: 0.8351\n",
      "Epoch 63/100\n",
      "8000/8000 [==============================] - 1s 166us/step - loss: 0.4001 - acc: 0.8345\n",
      "Epoch 64/100\n",
      "8000/8000 [==============================] - 2s 219us/step - loss: 0.3999 - acc: 0.8342\n",
      "Epoch 65/100\n",
      "8000/8000 [==============================] - 1s 163us/step - loss: 0.4000 - acc: 0.8350\n",
      "Epoch 66/100\n",
      "8000/8000 [==============================] - 1s 156us/step - loss: 0.4003 - acc: 0.8349\n",
      "Epoch 67/100\n",
      "8000/8000 [==============================] - 1s 157us/step - loss: 0.3995 - acc: 0.8345\n",
      "Epoch 68/100\n",
      "8000/8000 [==============================] - 1s 170us/step - loss: 0.4000 - acc: 0.8342\n",
      "Epoch 69/100\n",
      "8000/8000 [==============================] - 1s 152us/step - loss: 0.3999 - acc: 0.8350\n",
      "Epoch 70/100\n",
      "8000/8000 [==============================] - 1s 152us/step - loss: 0.3995 - acc: 0.8339\n",
      "Epoch 71/100\n",
      "8000/8000 [==============================] - 1s 154us/step - loss: 0.3995 - acc: 0.8347\n",
      "Epoch 72/100\n",
      "8000/8000 [==============================] - 1s 163us/step - loss: 0.3998 - acc: 0.8346\n",
      "Epoch 73/100\n",
      "8000/8000 [==============================] - 1s 160us/step - loss: 0.3995 - acc: 0.8339\n",
      "Epoch 74/100\n",
      "8000/8000 [==============================] - 1s 151us/step - loss: 0.3996 - acc: 0.8341\n",
      "Epoch 75/100\n",
      "8000/8000 [==============================] - 1s 150us/step - loss: 0.3998 - acc: 0.8339\n",
      "Epoch 76/100\n",
      "8000/8000 [==============================] - 1s 186us/step - loss: 0.3991 - acc: 0.8355\n",
      "Epoch 77/100\n",
      "8000/8000 [==============================] - 1s 159us/step - loss: 0.3995 - acc: 0.8341\n",
      "Epoch 78/100\n",
      "8000/8000 [==============================] - 1s 151us/step - loss: 0.3998 - acc: 0.8350\n",
      "Epoch 79/100\n",
      "8000/8000 [==============================] - 1s 159us/step - loss: 0.3991 - acc: 0.8359\n",
      "Epoch 80/100\n",
      "8000/8000 [==============================] - 1s 152us/step - loss: 0.3987 - acc: 0.8344\n",
      "Epoch 81/100\n",
      "8000/8000 [==============================] - 1s 152us/step - loss: 0.3992 - acc: 0.8357\n",
      "Epoch 82/100\n"
     ]
    },
    {
     "name": "stdout",
     "output_type": "stream",
     "text": [
      "8000/8000 [==============================] - 1s 136us/step - loss: 0.3993 - acc: 0.8342\n",
      "Epoch 83/100\n",
      "8000/8000 [==============================] - 1s 135us/step - loss: 0.3992 - acc: 0.8349\n",
      "Epoch 84/100\n",
      "8000/8000 [==============================] - 1s 136us/step - loss: 0.3992 - acc: 0.8360\n",
      "Epoch 85/100\n",
      "8000/8000 [==============================] - 1s 139us/step - loss: 0.3993 - acc: 0.8349\n",
      "Epoch 86/100\n",
      "8000/8000 [==============================] - 1s 136us/step - loss: 0.3992 - acc: 0.8346\n",
      "Epoch 87/100\n",
      "8000/8000 [==============================] - 1s 136us/step - loss: 0.3992 - acc: 0.8349\n",
      "Epoch 88/100\n",
      "8000/8000 [==============================] - 1s 135us/step - loss: 0.3996 - acc: 0.8344\n",
      "Epoch 89/100\n",
      "8000/8000 [==============================] - 1s 137us/step - loss: 0.3990 - acc: 0.8357\n",
      "Epoch 90/100\n",
      "8000/8000 [==============================] - 1s 175us/step - loss: 0.3987 - acc: 0.8359\n",
      "Epoch 91/100\n",
      "8000/8000 [==============================] - 1s 139us/step - loss: 0.3993 - acc: 0.8371\n",
      "Epoch 92/100\n",
      "8000/8000 [==============================] - 1s 137us/step - loss: 0.3988 - acc: 0.8365\n",
      "Epoch 93/100\n",
      "8000/8000 [==============================] - 1s 156us/step - loss: 0.3992 - acc: 0.8351\n",
      "Epoch 94/100\n",
      "8000/8000 [==============================] - 1s 146us/step - loss: 0.3989 - acc: 0.8349\n",
      "Epoch 95/100\n",
      "8000/8000 [==============================] - 1s 144us/step - loss: 0.3991 - acc: 0.8362\n",
      "Epoch 96/100\n",
      "8000/8000 [==============================] - 1s 160us/step - loss: 0.3990 - acc: 0.8356\n",
      "Epoch 97/100\n",
      "8000/8000 [==============================] - 1s 168us/step - loss: 0.3986 - acc: 0.8342\n",
      "Epoch 98/100\n",
      "8000/8000 [==============================] - 1s 154us/step - loss: 0.3991 - acc: 0.8351\n",
      "Epoch 99/100\n",
      "8000/8000 [==============================] - 1s 152us/step - loss: 0.3989 - acc: 0.8362\n",
      "Epoch 100/100\n",
      "8000/8000 [==============================] - 1s 152us/step - loss: 0.3992 - acc: 0.8342\n"
     ]
    },
    {
     "data": {
      "text/plain": [
       "<keras.callbacks.History at 0xc47ef1f1d0>"
      ]
     },
     "execution_count": 21,
     "metadata": {},
     "output_type": "execute_result"
    }
   ],
   "source": [
    "#Fitting the ANN to training set\n",
    "classifier.fit(x_train,y_train,batch_size=10,nb_epoch=100)"
   ]
  },
  {
   "cell_type": "code",
   "execution_count": 22,
   "metadata": {},
   "outputs": [],
   "source": [
    "y_pred=classifier.predict(x_test)"
   ]
  },
  {
   "cell_type": "code",
   "execution_count": 24,
   "metadata": {},
   "outputs": [
    {
     "data": {
      "text/plain": [
       "2000"
      ]
     },
     "execution_count": 24,
     "metadata": {},
     "output_type": "execute_result"
    }
   ],
   "source": [
    "len(y_pred)"
   ]
  },
  {
   "cell_type": "code",
   "execution_count": 25,
   "metadata": {},
   "outputs": [],
   "source": [
    "y_pred=(y_pred>0.5)"
   ]
  },
  {
   "cell_type": "code",
   "execution_count": 26,
   "metadata": {},
   "outputs": [],
   "source": [
    "from sklearn.metrics import confusion_matrix\n",
    "cm=confusion_matrix(y_test,y_pred)"
   ]
  },
  {
   "cell_type": "code",
   "execution_count": 27,
   "metadata": {},
   "outputs": [
    {
     "data": {
      "text/plain": [
       "array([[1540,   55],\n",
       "       [ 252,  153]], dtype=int64)"
      ]
     },
     "execution_count": 27,
     "metadata": {},
     "output_type": "execute_result"
    }
   ],
   "source": [
    "cm"
   ]
  },
  {
   "cell_type": "code",
   "execution_count": 28,
   "metadata": {},
   "outputs": [],
   "source": [
    "accuracy=(1540+153)/2000"
   ]
  },
  {
   "cell_type": "code",
   "execution_count": 29,
   "metadata": {},
   "outputs": [
    {
     "data": {
      "text/plain": [
       "0.8465"
      ]
     },
     "execution_count": 29,
     "metadata": {},
     "output_type": "execute_result"
    }
   ],
   "source": [
    "accuracy"
   ]
  },
  {
   "cell_type": "code",
   "execution_count": null,
   "metadata": {},
   "outputs": [],
   "source": []
  }
 ],
 "metadata": {
  "kernelspec": {
   "display_name": "Python 3",
   "language": "python",
   "name": "python3"
  },
  "language_info": {
   "codemirror_mode": {
    "name": "ipython",
    "version": 3
   },
   "file_extension": ".py",
   "mimetype": "text/x-python",
   "name": "python",
   "nbconvert_exporter": "python",
   "pygments_lexer": "ipython3",
   "version": "3.6.7"
  }
 },
 "nbformat": 4,
 "nbformat_minor": 2
}
